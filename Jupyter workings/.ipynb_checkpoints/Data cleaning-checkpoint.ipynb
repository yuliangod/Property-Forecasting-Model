{
 "cells": [
  {
   "cell_type": "markdown",
   "id": "1c173e1c",
   "metadata": {},
   "source": [
    "# Script to get average quarterly data to match with PPI"
   ]
  },
  {
   "cell_type": "code",
   "execution_count": 1,
   "id": "53c3cae8",
   "metadata": {},
   "outputs": [],
   "source": [
    "import pandas as pd"
   ]
  },
  {
   "cell_type": "markdown",
   "id": "057c00b9",
   "metadata": {},
   "source": [
    "## Clean property data"
   ]
  },
  {
   "cell_type": "code",
   "execution_count": 4,
   "id": "b06fc9a4",
   "metadata": {},
   "outputs": [
    {
     "data": {
      "text/plain": [
       "['CAMELOT BY-THE-WATER',\n",
       " 'CASUARINA COVE',\n",
       " 'COSTA RHU',\n",
       " \"COTE D'AZUR\",\n",
       " 'DUNMAN VIEW',\n",
       " 'LEGENDA AT JOO CHIAT',\n",
       " 'MANDARIN GARDENS',\n",
       " 'PEBBLE BAY',\n",
       " 'RIVEREDGE',\n",
       " 'SANCTUARY GREEN',\n",
       " 'SILVERSEA',\n",
       " 'TANJONG RIA CONDOMINIUM',\n",
       " 'THE SHORE RESIDENCES',\n",
       " 'VILLA MARINA',\n",
       " 'WATER PLACE']"
      ]
     },
     "execution_count": 4,
     "metadata": {},
     "output_type": "execute_result"
    }
   ],
   "source": [
    "sheet_name_ls = pd.ExcelFile(\"../Raw Data/output.xlsx\").sheet_names\n",
    "sheet_name_ls"
   ]
  },
  {
   "cell_type": "code",
   "execution_count": null,
   "id": "4db82168",
   "metadata": {},
   "outputs": [],
   "source": [
    "sheet_name = \"PEBBLE BAY\""
   ]
  },
  {
   "cell_type": "code",
   "execution_count": null,
   "id": "00f838f5",
   "metadata": {},
   "outputs": [],
   "source": [
    "prop_df = pd.read_excel(\"output.xlsx\", sheet_name=sheet_name)"
   ]
  },
  {
   "cell_type": "code",
   "execution_count": null,
   "id": "1f9e8377",
   "metadata": {
    "scrolled": true
   },
   "outputs": [],
   "source": [
    "prop_df.head()"
   ]
  },
  {
   "cell_type": "code",
   "execution_count": null,
   "id": "47f5d220",
   "metadata": {
    "scrolled": false
   },
   "outputs": [],
   "source": [
    "type(prop_df[\"Date of Sale\"][1])"
   ]
  },
  {
   "cell_type": "markdown",
   "id": "cf27df95",
   "metadata": {},
   "source": [
    "Extracting Year and Month of each entry"
   ]
  },
  {
   "cell_type": "code",
   "execution_count": null,
   "id": "feaf4419",
   "metadata": {
    "scrolled": true
   },
   "outputs": [],
   "source": [
    "prop_df[\"Year\"] = prop_df[\"Date of Sale\"].str[-2:]\n",
    "prop_df[\"Month\"] = prop_df[\"Date of Sale\"].str[:3]\n",
    "prop_df.head()"
   ]
  },
  {
   "cell_type": "markdown",
   "id": "7a94fdc0",
   "metadata": {},
   "source": [
    "Add column with which quarter entry is in"
   ]
  },
  {
   "cell_type": "code",
   "execution_count": null,
   "id": "334e33bd",
   "metadata": {},
   "outputs": [],
   "source": [
    "Q_dict = {\"Jan\":\"Q1\", \"Feb\": \"Q1\", \"Mar\": \"Q1\", \"Apr\": \"Q2\", \"May\": \"Q2\", \"Jun\": \"Q2\", \"Jul\":\"Q3\", \"Aug\":\"Q3\", \"Sep\":\"Q3\", \"Oct\":\"Q4\", \"Nov\":\"Q4\", \"Dec\":\"Q4\"}"
   ]
  },
  {
   "cell_type": "code",
   "execution_count": null,
   "id": "87fc23e9",
   "metadata": {},
   "outputs": [],
   "source": [
    "prop_df[\"Quarter\"] = prop_df[\"Month\"].map(Q_dict) #+ \"-\" + df[\"Year\"]"
   ]
  },
  {
   "cell_type": "code",
   "execution_count": null,
   "id": "7335a229",
   "metadata": {
    "scrolled": false
   },
   "outputs": [],
   "source": [
    "prop_df.head()"
   ]
  },
  {
   "cell_type": "markdown",
   "id": "810add2b",
   "metadata": {},
   "source": [
    "Group by quarter to get average data and count of each row"
   ]
  },
  {
   "cell_type": "code",
   "execution_count": null,
   "id": "b7ceb4a7",
   "metadata": {},
   "outputs": [],
   "source": [
    "prop_df = prop_df.groupby([\"Year\",\"Quarter\"])"
   ]
  },
  {
   "cell_type": "code",
   "execution_count": null,
   "id": "0cbfc066",
   "metadata": {},
   "outputs": [],
   "source": [
    "count_series = prop_df[\"No. of Units\"].count()\n",
    "count_series.head()\n",
    "count_series"
   ]
  },
  {
   "cell_type": "code",
   "execution_count": null,
   "id": "6250cc75",
   "metadata": {},
   "outputs": [],
   "source": [
    "prop_df = prop_df.mean()\n",
    "prop_df.head()"
   ]
  },
  {
   "cell_type": "markdown",
   "id": "cfab7977",
   "metadata": {},
   "source": [
    "Change No. of Units to count "
   ]
  },
  {
   "cell_type": "code",
   "execution_count": null,
   "id": "7383d875",
   "metadata": {},
   "outputs": [],
   "source": [
    "prop_df[\"No. of Units\"] = count_series\n",
    "prop_df.head()"
   ]
  },
  {
   "cell_type": "code",
   "execution_count": null,
   "id": "864a715e",
   "metadata": {},
   "outputs": [],
   "source": [
    "prop_df.index"
   ]
  },
  {
   "cell_type": "markdown",
   "id": "cf0f1846",
   "metadata": {},
   "source": [
    "## Clean PPI data"
   ]
  },
  {
   "cell_type": "code",
   "execution_count": null,
   "id": "1f33bc49",
   "metadata": {},
   "outputs": [],
   "source": [
    "ppi_df = pd.read_csv(\"private-residential-property-price-index-base-quarter-2009-q1-100-quarterly.csv\")\n",
    "ppi_df.head()"
   ]
  },
  {
   "cell_type": "markdown",
   "id": "c68b5bf8",
   "metadata": {},
   "source": [
    "Extracting Year and Month of each entry"
   ]
  },
  {
   "cell_type": "code",
   "execution_count": null,
   "id": "83e8a5d7",
   "metadata": {
    "scrolled": false
   },
   "outputs": [],
   "source": [
    "ppi_df[\"Year\"] = ppi_df[\"quarter\"].str[2:4]\n",
    "ppi_df[\"Full Year\"] = pd.to_numeric(ppi_df[\"quarter\"].str[:4])\n",
    "ppi_df[\"Quarter\"] = ppi_df[\"quarter\"].str[-2:]\n",
    "ppi_df.head()"
   ]
  },
  {
   "cell_type": "markdown",
   "id": "e406d7ea",
   "metadata": {},
   "source": [
    "Filter out irrelevant Years"
   ]
  },
  {
   "cell_type": "code",
   "execution_count": null,
   "id": "bad6094f",
   "metadata": {},
   "outputs": [],
   "source": [
    "ppi_df = ppi_df[ppi_df[\"Full Year\"] <= 2020]\n",
    "ppi_df = ppi_df[ppi_df[\"Full Year\"] >= 1990]\n",
    "ppi_df.head()"
   ]
  },
  {
   "cell_type": "markdown",
   "id": "536fa49e",
   "metadata": {},
   "source": [
    "Filter out only Non-Landed properties"
   ]
  },
  {
   "cell_type": "code",
   "execution_count": null,
   "id": "3d45ea29",
   "metadata": {},
   "outputs": [],
   "source": [
    "ppi_df = ppi_df[ppi_df[\"property_type\"]==\"Non-Landed\"]\n",
    "ppi_df.head()"
   ]
  },
  {
   "cell_type": "code",
   "execution_count": null,
   "id": "b96068ef",
   "metadata": {
    "scrolled": true
   },
   "outputs": [],
   "source": [
    "ppi_df = ppi_df.set_index([\"Year\", \"Quarter\"])\n",
    "ppi_df.head()"
   ]
  },
  {
   "cell_type": "code",
   "execution_count": null,
   "id": "c2f85dbd",
   "metadata": {},
   "outputs": [],
   "source": [
    "ppi_df.index"
   ]
  },
  {
   "cell_type": "markdown",
   "id": "7896a504",
   "metadata": {},
   "source": [
    "Rename index to PPI"
   ]
  },
  {
   "cell_type": "code",
   "execution_count": null,
   "id": "40959e40",
   "metadata": {},
   "outputs": [],
   "source": [
    "ppi_df = ppi_df.rename(columns={\"index\": \"PPI\"})\n",
    "ppi_df"
   ]
  },
  {
   "cell_type": "markdown",
   "id": "0ce97084",
   "metadata": {},
   "source": [
    "## Combining dataframes"
   ]
  },
  {
   "cell_type": "code",
   "execution_count": null,
   "id": "be2cbaab",
   "metadata": {
    "scrolled": true
   },
   "outputs": [],
   "source": [
    "result_df = pd.merge(prop_df, ppi_df, how=\"right\", left_index=True, right_index=True)\n",
    "result_df"
   ]
  },
  {
   "cell_type": "markdown",
   "id": "58ee1647",
   "metadata": {},
   "source": [
    "Change index to datetime format and set as index"
   ]
  },
  {
   "cell_type": "code",
   "execution_count": null,
   "id": "fe844d1b",
   "metadata": {},
   "outputs": [],
   "source": [
    "Year = list(result_df[\"Full Year\"])\n",
    "Year = [int(i) for i in Year]\n",
    "Quarter = list(result_df.index.get_level_values(1).str[-1])\n",
    "Quarter = [int(i) for i in Quarter]\n",
    "Year"
   ]
  },
  {
   "cell_type": "code",
   "execution_count": null,
   "id": "90d4f811",
   "metadata": {},
   "outputs": [],
   "source": [
    "result_df[\"Index\"] = pd.PeriodIndex(year=Year, quarter=Quarter).to_timestamp()\n",
    "result_df.tail()"
   ]
  },
  {
   "cell_type": "code",
   "execution_count": null,
   "id": "3316e7ee",
   "metadata": {
    "scrolled": true
   },
   "outputs": [],
   "source": [
    "result_df = result_df.reset_index()\n",
    "result_df[\"Year\"] = result_df[\"Full Year\"]\n",
    "result_df = result_df.drop(\"Full Year\", axis=1)\n",
    "result_df = result_df.set_index(\"Index\")\n",
    "result_df"
   ]
  },
  {
   "cell_type": "code",
   "execution_count": null,
   "id": "fa05fd59",
   "metadata": {},
   "outputs": [],
   "source": [
    "delta_psf_abs = result_df.dropna()[\"Unit Price ($psf)\"].diff()\n",
    "delta_ppi_abs = result_df.dropna()[\"PPI\"].diff()\n",
    "result_df[\"deltaPSF(absolute)\"] = delta_psf\n",
    "result_df[\"deltaPPI(absolute) \"] = delta_ppi"
   ]
  },
  {
   "cell_type": "code",
   "execution_count": null,
   "id": "fb6f84d9",
   "metadata": {},
   "outputs": [],
   "source": [
    "result_df.tail(10)"
   ]
  },
  {
   "cell_type": "markdown",
   "id": "34d58e34",
   "metadata": {},
   "source": [
    "Add column delta PSF and delta PPI for regression to account for market noise"
   ]
  },
  {
   "cell_type": "code",
   "execution_count": null,
   "id": "7e31405c",
   "metadata": {},
   "outputs": [],
   "source": [
    "result_df.to_csv(\"result.csv\")"
   ]
  },
  {
   "cell_type": "code",
   "execution_count": null,
   "id": "00d41e16",
   "metadata": {},
   "outputs": [],
   "source": []
  }
 ],
 "metadata": {
  "kernelspec": {
   "display_name": "Project",
   "language": "python",
   "name": "project"
  },
  "language_info": {
   "codemirror_mode": {
    "name": "ipython",
    "version": 3
   },
   "file_extension": ".py",
   "mimetype": "text/x-python",
   "name": "python",
   "nbconvert_exporter": "python",
   "pygments_lexer": "ipython3",
   "version": "3.9.7"
  }
 },
 "nbformat": 4,
 "nbformat_minor": 5
}
