{
 "cells": [
  {
   "cell_type": "code",
   "execution_count": 7,
   "id": "8ca61a7f",
   "metadata": {},
   "outputs": [],
   "source": [
    "import pandas as pd  \n",
    "import numpy as np  \n",
    "import matplotlib.pyplot as plt  \n",
    "import seaborn as seabornInstance \n",
    "from sklearn.model_selection import train_test_split \n",
    "from sklearn.linear_model import LinearRegression\n",
    "from sklearn import metrics\n",
    "from sklearn.neighbors import LocalOutlierFactor\n",
    "%matplotlib inline"
   ]
  },
  {
   "cell_type": "code",
   "execution_count": 8,
   "id": "8ee545e4",
   "metadata": {
    "scrolled": true
   },
   "outputs": [
    {
     "data": {
      "text/html": [
       "<div>\n",
       "<style scoped>\n",
       "    .dataframe tbody tr th:only-of-type {\n",
       "        vertical-align: middle;\n",
       "    }\n",
       "\n",
       "    .dataframe tbody tr th {\n",
       "        vertical-align: top;\n",
       "    }\n",
       "\n",
       "    .dataframe thead th {\n",
       "        text-align: right;\n",
       "    }\n",
       "</style>\n",
       "<table border=\"1\" class=\"dataframe\">\n",
       "  <thead>\n",
       "    <tr style=\"text-align: right;\">\n",
       "      <th></th>\n",
       "      <th>Year</th>\n",
       "      <th>Quarter</th>\n",
       "      <th>S/N</th>\n",
       "      <th>No. of Units</th>\n",
       "      <th>Price ($)</th>\n",
       "      <th>Area (Sqft)</th>\n",
       "      <th>Unit Price ($psf)</th>\n",
       "      <th>quarter</th>\n",
       "      <th>property_type</th>\n",
       "      <th>PPI</th>\n",
       "      <th>delta_PSF(absolute)</th>\n",
       "      <th>delta_PPI(absolute)</th>\n",
       "      <th>delta_PSF(percentage)</th>\n",
       "      <th>delta_PPI(percentage)</th>\n",
       "    </tr>\n",
       "    <tr>\n",
       "      <th>Index</th>\n",
       "      <th></th>\n",
       "      <th></th>\n",
       "      <th></th>\n",
       "      <th></th>\n",
       "      <th></th>\n",
       "      <th></th>\n",
       "      <th></th>\n",
       "      <th></th>\n",
       "      <th></th>\n",
       "      <th></th>\n",
       "      <th></th>\n",
       "      <th></th>\n",
       "      <th></th>\n",
       "      <th></th>\n",
       "    </tr>\n",
       "  </thead>\n",
       "  <tbody>\n",
       "    <tr>\n",
       "      <th>1990-01-01</th>\n",
       "      <td>1990</td>\n",
       "      <td>Q1</td>\n",
       "      <td>NaN</td>\n",
       "      <td>NaN</td>\n",
       "      <td>NaN</td>\n",
       "      <td>NaN</td>\n",
       "      <td>NaN</td>\n",
       "      <td>1990-Q1</td>\n",
       "      <td>Non-Landed</td>\n",
       "      <td>41.6</td>\n",
       "      <td>NaN</td>\n",
       "      <td>NaN</td>\n",
       "      <td>NaN</td>\n",
       "      <td>NaN</td>\n",
       "    </tr>\n",
       "    <tr>\n",
       "      <th>1990-04-01</th>\n",
       "      <td>1990</td>\n",
       "      <td>Q2</td>\n",
       "      <td>NaN</td>\n",
       "      <td>NaN</td>\n",
       "      <td>NaN</td>\n",
       "      <td>NaN</td>\n",
       "      <td>NaN</td>\n",
       "      <td>1990-Q2</td>\n",
       "      <td>Non-Landed</td>\n",
       "      <td>43.1</td>\n",
       "      <td>NaN</td>\n",
       "      <td>NaN</td>\n",
       "      <td>NaN</td>\n",
       "      <td>NaN</td>\n",
       "    </tr>\n",
       "    <tr>\n",
       "      <th>1990-07-01</th>\n",
       "      <td>1990</td>\n",
       "      <td>Q3</td>\n",
       "      <td>NaN</td>\n",
       "      <td>NaN</td>\n",
       "      <td>NaN</td>\n",
       "      <td>NaN</td>\n",
       "      <td>NaN</td>\n",
       "      <td>1990-Q3</td>\n",
       "      <td>Non-Landed</td>\n",
       "      <td>42.7</td>\n",
       "      <td>NaN</td>\n",
       "      <td>NaN</td>\n",
       "      <td>NaN</td>\n",
       "      <td>NaN</td>\n",
       "    </tr>\n",
       "    <tr>\n",
       "      <th>1990-10-01</th>\n",
       "      <td>1990</td>\n",
       "      <td>Q4</td>\n",
       "      <td>NaN</td>\n",
       "      <td>NaN</td>\n",
       "      <td>NaN</td>\n",
       "      <td>NaN</td>\n",
       "      <td>NaN</td>\n",
       "      <td>1990-Q4</td>\n",
       "      <td>Non-Landed</td>\n",
       "      <td>41.8</td>\n",
       "      <td>NaN</td>\n",
       "      <td>NaN</td>\n",
       "      <td>NaN</td>\n",
       "      <td>NaN</td>\n",
       "    </tr>\n",
       "    <tr>\n",
       "      <th>1991-01-01</th>\n",
       "      <td>1991</td>\n",
       "      <td>Q1</td>\n",
       "      <td>NaN</td>\n",
       "      <td>NaN</td>\n",
       "      <td>NaN</td>\n",
       "      <td>NaN</td>\n",
       "      <td>NaN</td>\n",
       "      <td>1991-Q1</td>\n",
       "      <td>Non-Landed</td>\n",
       "      <td>42.8</td>\n",
       "      <td>NaN</td>\n",
       "      <td>NaN</td>\n",
       "      <td>NaN</td>\n",
       "      <td>NaN</td>\n",
       "    </tr>\n",
       "    <tr>\n",
       "      <th>...</th>\n",
       "      <td>...</td>\n",
       "      <td>...</td>\n",
       "      <td>...</td>\n",
       "      <td>...</td>\n",
       "      <td>...</td>\n",
       "      <td>...</td>\n",
       "      <td>...</td>\n",
       "      <td>...</td>\n",
       "      <td>...</td>\n",
       "      <td>...</td>\n",
       "      <td>...</td>\n",
       "      <td>...</td>\n",
       "      <td>...</td>\n",
       "      <td>...</td>\n",
       "    </tr>\n",
       "    <tr>\n",
       "      <th>2019-10-01</th>\n",
       "      <td>2019</td>\n",
       "      <td>Q4</td>\n",
       "      <td>3615.333333</td>\n",
       "      <td>3.0</td>\n",
       "      <td>2.879333e+06</td>\n",
       "      <td>1958.666667</td>\n",
       "      <td>1469.333333</td>\n",
       "      <td>2019-Q4</td>\n",
       "      <td>Non-Landed</td>\n",
       "      <td>149.6</td>\n",
       "      <td>-59.000000</td>\n",
       "      <td>1.5</td>\n",
       "      <td>-0.038604</td>\n",
       "      <td>0.010000</td>\n",
       "    </tr>\n",
       "    <tr>\n",
       "      <th>2020-01-01</th>\n",
       "      <td>2020</td>\n",
       "      <td>Q1</td>\n",
       "      <td>3372.000000</td>\n",
       "      <td>1.0</td>\n",
       "      <td>4.350000e+06</td>\n",
       "      <td>2626.000000</td>\n",
       "      <td>1656.000000</td>\n",
       "      <td>2020-Q1</td>\n",
       "      <td>Non-Landed</td>\n",
       "      <td>148.1</td>\n",
       "      <td>186.666667</td>\n",
       "      <td>-1.5</td>\n",
       "      <td>0.127042</td>\n",
       "      <td>-0.010027</td>\n",
       "    </tr>\n",
       "    <tr>\n",
       "      <th>2020-04-01</th>\n",
       "      <td>2020</td>\n",
       "      <td>Q2</td>\n",
       "      <td>3322.000000</td>\n",
       "      <td>2.0</td>\n",
       "      <td>2.919000e+06</td>\n",
       "      <td>1894.000000</td>\n",
       "      <td>1541.000000</td>\n",
       "      <td>2020-Q2</td>\n",
       "      <td>Non-Landed</td>\n",
       "      <td>148.7</td>\n",
       "      <td>-115.000000</td>\n",
       "      <td>0.6</td>\n",
       "      <td>-0.069444</td>\n",
       "      <td>0.004051</td>\n",
       "    </tr>\n",
       "    <tr>\n",
       "      <th>2020-07-01</th>\n",
       "      <td>2020</td>\n",
       "      <td>Q3</td>\n",
       "      <td>3189.400000</td>\n",
       "      <td>5.0</td>\n",
       "      <td>3.287600e+06</td>\n",
       "      <td>2200.000000</td>\n",
       "      <td>1474.000000</td>\n",
       "      <td>2020-Q3</td>\n",
       "      <td>Non-Landed</td>\n",
       "      <td>148.8</td>\n",
       "      <td>-67.000000</td>\n",
       "      <td>0.1</td>\n",
       "      <td>-0.043478</td>\n",
       "      <td>0.000672</td>\n",
       "    </tr>\n",
       "    <tr>\n",
       "      <th>2020-10-01</th>\n",
       "      <td>2020</td>\n",
       "      <td>Q4</td>\n",
       "      <td>2824.666667</td>\n",
       "      <td>3.0</td>\n",
       "      <td>3.436000e+06</td>\n",
       "      <td>2285.333333</td>\n",
       "      <td>1497.000000</td>\n",
       "      <td>2020-Q4</td>\n",
       "      <td>Non-Landed</td>\n",
       "      <td>153.3</td>\n",
       "      <td>23.000000</td>\n",
       "      <td>4.5</td>\n",
       "      <td>0.015604</td>\n",
       "      <td>0.030242</td>\n",
       "    </tr>\n",
       "  </tbody>\n",
       "</table>\n",
       "<p>124 rows × 14 columns</p>\n",
       "</div>"
      ],
      "text/plain": [
       "            Year Quarter          S/N  No. of Units     Price ($)  \\\n",
       "Index                                                               \n",
       "1990-01-01  1990      Q1          NaN           NaN           NaN   \n",
       "1990-04-01  1990      Q2          NaN           NaN           NaN   \n",
       "1990-07-01  1990      Q3          NaN           NaN           NaN   \n",
       "1990-10-01  1990      Q4          NaN           NaN           NaN   \n",
       "1991-01-01  1991      Q1          NaN           NaN           NaN   \n",
       "...          ...     ...          ...           ...           ...   \n",
       "2019-10-01  2019      Q4  3615.333333           3.0  2.879333e+06   \n",
       "2020-01-01  2020      Q1  3372.000000           1.0  4.350000e+06   \n",
       "2020-04-01  2020      Q2  3322.000000           2.0  2.919000e+06   \n",
       "2020-07-01  2020      Q3  3189.400000           5.0  3.287600e+06   \n",
       "2020-10-01  2020      Q4  2824.666667           3.0  3.436000e+06   \n",
       "\n",
       "            Area (Sqft)  Unit Price ($psf)  quarter property_type    PPI  \\\n",
       "Index                                                                      \n",
       "1990-01-01          NaN                NaN  1990-Q1    Non-Landed   41.6   \n",
       "1990-04-01          NaN                NaN  1990-Q2    Non-Landed   43.1   \n",
       "1990-07-01          NaN                NaN  1990-Q3    Non-Landed   42.7   \n",
       "1990-10-01          NaN                NaN  1990-Q4    Non-Landed   41.8   \n",
       "1991-01-01          NaN                NaN  1991-Q1    Non-Landed   42.8   \n",
       "...                 ...                ...      ...           ...    ...   \n",
       "2019-10-01  1958.666667        1469.333333  2019-Q4    Non-Landed  149.6   \n",
       "2020-01-01  2626.000000        1656.000000  2020-Q1    Non-Landed  148.1   \n",
       "2020-04-01  1894.000000        1541.000000  2020-Q2    Non-Landed  148.7   \n",
       "2020-07-01  2200.000000        1474.000000  2020-Q3    Non-Landed  148.8   \n",
       "2020-10-01  2285.333333        1497.000000  2020-Q4    Non-Landed  153.3   \n",
       "\n",
       "            delta_PSF(absolute)  delta_PPI(absolute)  delta_PSF(percentage)  \\\n",
       "Index                                                                         \n",
       "1990-01-01                  NaN                  NaN                    NaN   \n",
       "1990-04-01                  NaN                  NaN                    NaN   \n",
       "1990-07-01                  NaN                  NaN                    NaN   \n",
       "1990-10-01                  NaN                  NaN                    NaN   \n",
       "1991-01-01                  NaN                  NaN                    NaN   \n",
       "...                         ...                  ...                    ...   \n",
       "2019-10-01           -59.000000                  1.5              -0.038604   \n",
       "2020-01-01           186.666667                 -1.5               0.127042   \n",
       "2020-04-01          -115.000000                  0.6              -0.069444   \n",
       "2020-07-01           -67.000000                  0.1              -0.043478   \n",
       "2020-10-01            23.000000                  4.5               0.015604   \n",
       "\n",
       "            delta_PPI(percentage)   \n",
       "Index                               \n",
       "1990-01-01                     NaN  \n",
       "1990-04-01                     NaN  \n",
       "1990-07-01                     NaN  \n",
       "1990-10-01                     NaN  \n",
       "1991-01-01                     NaN  \n",
       "...                            ...  \n",
       "2019-10-01                0.010000  \n",
       "2020-01-01               -0.010027  \n",
       "2020-04-01                0.004051  \n",
       "2020-07-01                0.000672  \n",
       "2020-10-01                0.030242  \n",
       "\n",
       "[124 rows x 14 columns]"
      ]
     },
     "execution_count": 8,
     "metadata": {},
     "output_type": "execute_result"
    }
   ],
   "source": [
    "df = pd.read_csv(\"../Results/result.csv\", parse_dates=[\"Index\"], index_col=[\"Index\"])\n",
    "df"
   ]
  },
  {
   "cell_type": "code",
   "execution_count": 9,
   "id": "fad4f7d1",
   "metadata": {},
   "outputs": [
    {
     "ename": "KeyError",
     "evalue": "'delta_PPI(percentage)'",
     "output_type": "error",
     "traceback": [
      "\u001b[1;31m---------------------------------------------------------------------------\u001b[0m",
      "\u001b[1;31mKeyError\u001b[0m                                  Traceback (most recent call last)",
      "File \u001b[1;32m~\\.virtualenvs\\Project-fb-QOD4O\\lib\\site-packages\\pandas\\core\\indexes\\base.py:3802\u001b[0m, in \u001b[0;36mIndex.get_loc\u001b[1;34m(self, key, method, tolerance)\u001b[0m\n\u001b[0;32m   3801\u001b[0m \u001b[38;5;28;01mtry\u001b[39;00m:\n\u001b[1;32m-> 3802\u001b[0m     \u001b[38;5;28;01mreturn\u001b[39;00m \u001b[38;5;28;43mself\u001b[39;49m\u001b[38;5;241;43m.\u001b[39;49m\u001b[43m_engine\u001b[49m\u001b[38;5;241;43m.\u001b[39;49m\u001b[43mget_loc\u001b[49m\u001b[43m(\u001b[49m\u001b[43mcasted_key\u001b[49m\u001b[43m)\u001b[49m\n\u001b[0;32m   3803\u001b[0m \u001b[38;5;28;01mexcept\u001b[39;00m \u001b[38;5;167;01mKeyError\u001b[39;00m \u001b[38;5;28;01mas\u001b[39;00m err:\n",
      "File \u001b[1;32m~\\.virtualenvs\\Project-fb-QOD4O\\lib\\site-packages\\pandas\\_libs\\index.pyx:138\u001b[0m, in \u001b[0;36mpandas._libs.index.IndexEngine.get_loc\u001b[1;34m()\u001b[0m\n",
      "File \u001b[1;32m~\\.virtualenvs\\Project-fb-QOD4O\\lib\\site-packages\\pandas\\_libs\\index.pyx:165\u001b[0m, in \u001b[0;36mpandas._libs.index.IndexEngine.get_loc\u001b[1;34m()\u001b[0m\n",
      "File \u001b[1;32mpandas\\_libs\\hashtable_class_helper.pxi:5745\u001b[0m, in \u001b[0;36mpandas._libs.hashtable.PyObjectHashTable.get_item\u001b[1;34m()\u001b[0m\n",
      "File \u001b[1;32mpandas\\_libs\\hashtable_class_helper.pxi:5753\u001b[0m, in \u001b[0;36mpandas._libs.hashtable.PyObjectHashTable.get_item\u001b[1;34m()\u001b[0m\n",
      "\u001b[1;31mKeyError\u001b[0m: 'delta_PPI(percentage)'",
      "\nThe above exception was the direct cause of the following exception:\n",
      "\u001b[1;31mKeyError\u001b[0m                                  Traceback (most recent call last)",
      "Cell \u001b[1;32mIn[9], line 1\u001b[0m\n\u001b[1;32m----> 1\u001b[0m \u001b[43mdf\u001b[49m\u001b[38;5;241;43m.\u001b[39;49m\u001b[43mplot\u001b[49m\u001b[43m(\u001b[49m\u001b[43mx\u001b[49m\u001b[38;5;241;43m=\u001b[39;49m\u001b[38;5;124;43m'\u001b[39;49m\u001b[38;5;124;43mdelta_PPI(percentage)\u001b[39;49m\u001b[38;5;124;43m'\u001b[39;49m\u001b[43m,\u001b[49m\u001b[43m \u001b[49m\u001b[43my\u001b[49m\u001b[38;5;241;43m=\u001b[39;49m\u001b[38;5;124;43m'\u001b[39;49m\u001b[38;5;124;43mdelta_PSF(percentage)\u001b[39;49m\u001b[38;5;124;43m'\u001b[39;49m\u001b[43m,\u001b[49m\u001b[43m \u001b[49m\u001b[43mstyle\u001b[49m\u001b[38;5;241;43m=\u001b[39;49m\u001b[38;5;124;43m'\u001b[39;49m\u001b[38;5;124;43mo\u001b[39;49m\u001b[38;5;124;43m'\u001b[39;49m\u001b[43m)\u001b[49m  \n\u001b[0;32m      2\u001b[0m plt\u001b[38;5;241m.\u001b[39mtitle(\u001b[38;5;124m'\u001b[39m\u001b[38;5;124mdelta PPI vs delta PSF\u001b[39m\u001b[38;5;124m'\u001b[39m)  \n\u001b[0;32m      3\u001b[0m plt\u001b[38;5;241m.\u001b[39mxlabel(\u001b[38;5;124m'\u001b[39m\u001b[38;5;124mdelta PPI\u001b[39m\u001b[38;5;124m'\u001b[39m)  \n",
      "File \u001b[1;32m~\\.virtualenvs\\Project-fb-QOD4O\\lib\\site-packages\\pandas\\plotting\\_core.py:965\u001b[0m, in \u001b[0;36mPlotAccessor.__call__\u001b[1;34m(self, *args, **kwargs)\u001b[0m\n\u001b[0;32m    963\u001b[0m \u001b[38;5;28;01mif\u001b[39;00m is_integer(x) \u001b[38;5;129;01mand\u001b[39;00m \u001b[38;5;129;01mnot\u001b[39;00m data\u001b[38;5;241m.\u001b[39mcolumns\u001b[38;5;241m.\u001b[39mholds_integer():\n\u001b[0;32m    964\u001b[0m     x \u001b[38;5;241m=\u001b[39m data_cols[x]\n\u001b[1;32m--> 965\u001b[0m \u001b[38;5;28;01melif\u001b[39;00m \u001b[38;5;129;01mnot\u001b[39;00m \u001b[38;5;28misinstance\u001b[39m(\u001b[43mdata\u001b[49m\u001b[43m[\u001b[49m\u001b[43mx\u001b[49m\u001b[43m]\u001b[49m, ABCSeries):\n\u001b[0;32m    966\u001b[0m     \u001b[38;5;28;01mraise\u001b[39;00m \u001b[38;5;167;01mValueError\u001b[39;00m(\u001b[38;5;124m\"\u001b[39m\u001b[38;5;124mx must be a label or position\u001b[39m\u001b[38;5;124m\"\u001b[39m)\n\u001b[0;32m    967\u001b[0m data \u001b[38;5;241m=\u001b[39m data\u001b[38;5;241m.\u001b[39mset_index(x)\n",
      "File \u001b[1;32m~\\.virtualenvs\\Project-fb-QOD4O\\lib\\site-packages\\pandas\\core\\frame.py:3807\u001b[0m, in \u001b[0;36mDataFrame.__getitem__\u001b[1;34m(self, key)\u001b[0m\n\u001b[0;32m   3805\u001b[0m \u001b[38;5;28;01mif\u001b[39;00m \u001b[38;5;28mself\u001b[39m\u001b[38;5;241m.\u001b[39mcolumns\u001b[38;5;241m.\u001b[39mnlevels \u001b[38;5;241m>\u001b[39m \u001b[38;5;241m1\u001b[39m:\n\u001b[0;32m   3806\u001b[0m     \u001b[38;5;28;01mreturn\u001b[39;00m \u001b[38;5;28mself\u001b[39m\u001b[38;5;241m.\u001b[39m_getitem_multilevel(key)\n\u001b[1;32m-> 3807\u001b[0m indexer \u001b[38;5;241m=\u001b[39m \u001b[38;5;28;43mself\u001b[39;49m\u001b[38;5;241;43m.\u001b[39;49m\u001b[43mcolumns\u001b[49m\u001b[38;5;241;43m.\u001b[39;49m\u001b[43mget_loc\u001b[49m\u001b[43m(\u001b[49m\u001b[43mkey\u001b[49m\u001b[43m)\u001b[49m\n\u001b[0;32m   3808\u001b[0m \u001b[38;5;28;01mif\u001b[39;00m is_integer(indexer):\n\u001b[0;32m   3809\u001b[0m     indexer \u001b[38;5;241m=\u001b[39m [indexer]\n",
      "File \u001b[1;32m~\\.virtualenvs\\Project-fb-QOD4O\\lib\\site-packages\\pandas\\core\\indexes\\base.py:3804\u001b[0m, in \u001b[0;36mIndex.get_loc\u001b[1;34m(self, key, method, tolerance)\u001b[0m\n\u001b[0;32m   3802\u001b[0m     \u001b[38;5;28;01mreturn\u001b[39;00m \u001b[38;5;28mself\u001b[39m\u001b[38;5;241m.\u001b[39m_engine\u001b[38;5;241m.\u001b[39mget_loc(casted_key)\n\u001b[0;32m   3803\u001b[0m \u001b[38;5;28;01mexcept\u001b[39;00m \u001b[38;5;167;01mKeyError\u001b[39;00m \u001b[38;5;28;01mas\u001b[39;00m err:\n\u001b[1;32m-> 3804\u001b[0m     \u001b[38;5;28;01mraise\u001b[39;00m \u001b[38;5;167;01mKeyError\u001b[39;00m(key) \u001b[38;5;28;01mfrom\u001b[39;00m \u001b[38;5;21;01merr\u001b[39;00m\n\u001b[0;32m   3805\u001b[0m \u001b[38;5;28;01mexcept\u001b[39;00m \u001b[38;5;167;01mTypeError\u001b[39;00m:\n\u001b[0;32m   3806\u001b[0m     \u001b[38;5;66;03m# If we have a listlike key, _check_indexing_error will raise\u001b[39;00m\n\u001b[0;32m   3807\u001b[0m     \u001b[38;5;66;03m#  InvalidIndexError. Otherwise we fall through and re-raise\u001b[39;00m\n\u001b[0;32m   3808\u001b[0m     \u001b[38;5;66;03m#  the TypeError.\u001b[39;00m\n\u001b[0;32m   3809\u001b[0m     \u001b[38;5;28mself\u001b[39m\u001b[38;5;241m.\u001b[39m_check_indexing_error(key)\n",
      "\u001b[1;31mKeyError\u001b[0m: 'delta_PPI(percentage)'"
     ]
    }
   ],
   "source": [
    "df.plot(x='delta_PPI(percentage)', y='delta_PSF(percentage)', style='o')  \n",
    "plt.title('delta PPI vs delta PSF')  \n",
    "plt.xlabel('delta PPI')  \n",
    "plt.ylabel('delta PSF')  \n",
    "plt.show()"
   ]
  },
  {
   "cell_type": "code",
   "execution_count": null,
   "id": "8623e179",
   "metadata": {},
   "outputs": [],
   "source": [
    "X = df['delta_PPI'].dropna().values.reshape(-1,1)\n",
    "y = df['delta_PSF'].dropna().values.reshape(-1,1)"
   ]
  },
  {
   "cell_type": "code",
   "execution_count": 5,
   "id": "c53f2d66",
   "metadata": {},
   "outputs": [
    {
     "ename": "NameError",
     "evalue": "name 'X' is not defined",
     "output_type": "error",
     "traceback": [
      "\u001b[1;31m---------------------------------------------------------------------------\u001b[0m",
      "\u001b[1;31mNameError\u001b[0m                                 Traceback (most recent call last)",
      "Cell \u001b[1;32mIn[5], line 1\u001b[0m\n\u001b[1;32m----> 1\u001b[0m \u001b[43mX\u001b[49m\n",
      "\u001b[1;31mNameError\u001b[0m: name 'X' is not defined"
     ]
    }
   ],
   "source": [
    "X"
   ]
  },
  {
   "cell_type": "markdown",
   "id": "8f624673",
   "metadata": {},
   "source": [
    "## Split test train with random splitting"
   ]
  },
  {
   "cell_type": "code",
   "execution_count": 6,
   "id": "0fdd1a18",
   "metadata": {},
   "outputs": [],
   "source": [
    "X_train, X_test, y_train, y_test = train_test_split(X, y, test_size=0.2, random_state=0)"
   ]
  },
  {
   "cell_type": "code",
   "execution_count": 7,
   "id": "2c435fd8",
   "metadata": {},
   "outputs": [
    {
     "data": {
      "text/html": [
       "<style>#sk-container-id-1 {color: black;background-color: white;}#sk-container-id-1 pre{padding: 0;}#sk-container-id-1 div.sk-toggleable {background-color: white;}#sk-container-id-1 label.sk-toggleable__label {cursor: pointer;display: block;width: 100%;margin-bottom: 0;padding: 0.3em;box-sizing: border-box;text-align: center;}#sk-container-id-1 label.sk-toggleable__label-arrow:before {content: \"▸\";float: left;margin-right: 0.25em;color: #696969;}#sk-container-id-1 label.sk-toggleable__label-arrow:hover:before {color: black;}#sk-container-id-1 div.sk-estimator:hover label.sk-toggleable__label-arrow:before {color: black;}#sk-container-id-1 div.sk-toggleable__content {max-height: 0;max-width: 0;overflow: hidden;text-align: left;background-color: #f0f8ff;}#sk-container-id-1 div.sk-toggleable__content pre {margin: 0.2em;color: black;border-radius: 0.25em;background-color: #f0f8ff;}#sk-container-id-1 input.sk-toggleable__control:checked~div.sk-toggleable__content {max-height: 200px;max-width: 100%;overflow: auto;}#sk-container-id-1 input.sk-toggleable__control:checked~label.sk-toggleable__label-arrow:before {content: \"▾\";}#sk-container-id-1 div.sk-estimator input.sk-toggleable__control:checked~label.sk-toggleable__label {background-color: #d4ebff;}#sk-container-id-1 div.sk-label input.sk-toggleable__control:checked~label.sk-toggleable__label {background-color: #d4ebff;}#sk-container-id-1 input.sk-hidden--visually {border: 0;clip: rect(1px 1px 1px 1px);clip: rect(1px, 1px, 1px, 1px);height: 1px;margin: -1px;overflow: hidden;padding: 0;position: absolute;width: 1px;}#sk-container-id-1 div.sk-estimator {font-family: monospace;background-color: #f0f8ff;border: 1px dotted black;border-radius: 0.25em;box-sizing: border-box;margin-bottom: 0.5em;}#sk-container-id-1 div.sk-estimator:hover {background-color: #d4ebff;}#sk-container-id-1 div.sk-parallel-item::after {content: \"\";width: 100%;border-bottom: 1px solid gray;flex-grow: 1;}#sk-container-id-1 div.sk-label:hover label.sk-toggleable__label {background-color: #d4ebff;}#sk-container-id-1 div.sk-serial::before {content: \"\";position: absolute;border-left: 1px solid gray;box-sizing: border-box;top: 0;bottom: 0;left: 50%;z-index: 0;}#sk-container-id-1 div.sk-serial {display: flex;flex-direction: column;align-items: center;background-color: white;padding-right: 0.2em;padding-left: 0.2em;position: relative;}#sk-container-id-1 div.sk-item {position: relative;z-index: 1;}#sk-container-id-1 div.sk-parallel {display: flex;align-items: stretch;justify-content: center;background-color: white;position: relative;}#sk-container-id-1 div.sk-item::before, #sk-container-id-1 div.sk-parallel-item::before {content: \"\";position: absolute;border-left: 1px solid gray;box-sizing: border-box;top: 0;bottom: 0;left: 50%;z-index: -1;}#sk-container-id-1 div.sk-parallel-item {display: flex;flex-direction: column;z-index: 1;position: relative;background-color: white;}#sk-container-id-1 div.sk-parallel-item:first-child::after {align-self: flex-end;width: 50%;}#sk-container-id-1 div.sk-parallel-item:last-child::after {align-self: flex-start;width: 50%;}#sk-container-id-1 div.sk-parallel-item:only-child::after {width: 0;}#sk-container-id-1 div.sk-dashed-wrapped {border: 1px dashed gray;margin: 0 0.4em 0.5em 0.4em;box-sizing: border-box;padding-bottom: 0.4em;background-color: white;}#sk-container-id-1 div.sk-label label {font-family: monospace;font-weight: bold;display: inline-block;line-height: 1.2em;}#sk-container-id-1 div.sk-label-container {text-align: center;}#sk-container-id-1 div.sk-container {/* jupyter's `normalize.less` sets `[hidden] { display: none; }` but bootstrap.min.css set `[hidden] { display: none !important; }` so we also need the `!important` here to be able to override the default hidden behavior on the sphinx rendered scikit-learn.org. See: https://github.com/scikit-learn/scikit-learn/issues/21755 */display: inline-block !important;position: relative;}#sk-container-id-1 div.sk-text-repr-fallback {display: none;}</style><div id=\"sk-container-id-1\" class=\"sk-top-container\"><div class=\"sk-text-repr-fallback\"><pre>LinearRegression()</pre><b>In a Jupyter environment, please rerun this cell to show the HTML representation or trust the notebook. <br />On GitHub, the HTML representation is unable to render, please try loading this page with nbviewer.org.</b></div><div class=\"sk-container\" hidden><div class=\"sk-item\"><div class=\"sk-estimator sk-toggleable\"><input class=\"sk-toggleable__control sk-hidden--visually\" id=\"sk-estimator-id-1\" type=\"checkbox\" checked><label for=\"sk-estimator-id-1\" class=\"sk-toggleable__label sk-toggleable__label-arrow\">LinearRegression</label><div class=\"sk-toggleable__content\"><pre>LinearRegression()</pre></div></div></div></div></div>"
      ],
      "text/plain": [
       "LinearRegression()"
      ]
     },
     "execution_count": 7,
     "metadata": {},
     "output_type": "execute_result"
    }
   ],
   "source": [
    "regressor = LinearRegression()  \n",
    "regressor.fit(X_train, y_train) #training the algorithm"
   ]
  },
  {
   "cell_type": "code",
   "execution_count": 8,
   "id": "6fc49f81",
   "metadata": {},
   "outputs": [
    {
     "name": "stdout",
     "output_type": "stream",
     "text": [
      "[72.25086253]\n",
      "[[-45.14436394]]\n"
     ]
    }
   ],
   "source": [
    "#To retrieve the intercept:\n",
    "print(regressor.intercept_)\n",
    "\n",
    "#For retrieving the slope:\n",
    "print(regressor.coef_)"
   ]
  },
  {
   "cell_type": "code",
   "execution_count": 9,
   "id": "82b61946",
   "metadata": {},
   "outputs": [],
   "source": [
    "y_pred = regressor.predict(X_test)"
   ]
  },
  {
   "cell_type": "code",
   "execution_count": 10,
   "id": "0340cda2",
   "metadata": {},
   "outputs": [
    {
     "data": {
      "text/html": [
       "<div>\n",
       "<style scoped>\n",
       "    .dataframe tbody tr th:only-of-type {\n",
       "        vertical-align: middle;\n",
       "    }\n",
       "\n",
       "    .dataframe tbody tr th {\n",
       "        vertical-align: top;\n",
       "    }\n",
       "\n",
       "    .dataframe thead th {\n",
       "        text-align: right;\n",
       "    }\n",
       "</style>\n",
       "<table border=\"1\" class=\"dataframe\">\n",
       "  <thead>\n",
       "    <tr style=\"text-align: right;\">\n",
       "      <th></th>\n",
       "      <th>Actual</th>\n",
       "      <th>Predicted</th>\n",
       "    </tr>\n",
       "  </thead>\n",
       "  <tbody>\n",
       "    <tr>\n",
       "      <th>0</th>\n",
       "      <td>10.4</td>\n",
       "      <td>40.649808</td>\n",
       "    </tr>\n",
       "    <tr>\n",
       "      <th>1</th>\n",
       "      <td>-67.0</td>\n",
       "      <td>67.736426</td>\n",
       "    </tr>\n",
       "  </tbody>\n",
       "</table>\n",
       "</div>"
      ],
      "text/plain": [
       "   Actual  Predicted\n",
       "0    10.4  40.649808\n",
       "1   -67.0  67.736426"
      ]
     },
     "execution_count": 10,
     "metadata": {},
     "output_type": "execute_result"
    }
   ],
   "source": [
    "actual_predicted_df = pd.DataFrame({'Actual': y_test.flatten(), 'Predicted': y_pred.flatten()})\n",
    "actual_predicted_df"
   ]
  },
  {
   "cell_type": "code",
   "execution_count": 11,
   "id": "1c0030b6",
   "metadata": {},
   "outputs": [
    {
     "name": "stdout",
     "output_type": "stream",
     "text": [
      "Mean Absolute Error: 82.4931169574772\n",
      "Mean Squared Error: 9534.477699599205\n",
      "Root Mean Squared Error: 97.64465013301653\n",
      "R Square Score: -5.366122294733345\n"
     ]
    }
   ],
   "source": [
    "print('Mean Absolute Error:', metrics.mean_absolute_error(y_test, y_pred))  \n",
    "print('Mean Squared Error:', metrics.mean_squared_error(y_test, y_pred))  \n",
    "print('Root Mean Squared Error:', np.sqrt(metrics.mean_squared_error(y_test, y_pred)))\n",
    "print('R Square Score:', metrics.r2_score(y_test, y_pred))"
   ]
  },
  {
   "cell_type": "markdown",
   "id": "dbe1ac37",
   "metadata": {},
   "source": [
    "## Split test train by latest values"
   ]
  },
  {
   "cell_type": "code",
   "execution_count": 12,
   "id": "006f7c3b",
   "metadata": {},
   "outputs": [],
   "source": [
    "X = df['delta_PPI'].dropna().values.reshape(-1,1)\n",
    "y = df['delta_PSF'].dropna().values.reshape(-1,1)"
   ]
  },
  {
   "cell_type": "code",
   "execution_count": 13,
   "id": "0287333a",
   "metadata": {},
   "outputs": [
    {
     "data": {
      "text/plain": [
       "2"
      ]
     },
     "execution_count": 13,
     "metadata": {},
     "output_type": "execute_result"
    }
   ],
   "source": [
    "test_len = round(len(X)*0.2)\n",
    "test_len"
   ]
  },
  {
   "cell_type": "code",
   "execution_count": 14,
   "id": "2bb9461c",
   "metadata": {},
   "outputs": [
    {
     "data": {
      "text/plain": [
       "array([[0.1],\n",
       "       [4.5]])"
      ]
     },
     "execution_count": 14,
     "metadata": {},
     "output_type": "execute_result"
    }
   ],
   "source": [
    "X_test = X[-test_len:]\n",
    "y_test = y[-test_len:]\n",
    "X_test"
   ]
  },
  {
   "cell_type": "code",
   "execution_count": 15,
   "id": "4b1bc276",
   "metadata": {},
   "outputs": [
    {
     "data": {
      "text/plain": [
       "8"
      ]
     },
     "execution_count": 15,
     "metadata": {},
     "output_type": "execute_result"
    }
   ],
   "source": [
    "X_train = X[:len(X)-test_len]\n",
    "y_train = y[:len(X)-test_len]\n",
    "\n",
    "len(y_train)"
   ]
  },
  {
   "cell_type": "code",
   "execution_count": 16,
   "id": "7760bd9d",
   "metadata": {},
   "outputs": [
    {
     "data": {
      "image/png": "[encoded data removed]",
      "text/plain": [
       "<Figure size 640x480 with 1 Axes>"
      ]
     },
     "metadata": {},
     "output_type": "display_data"
    }
   ],
   "source": [
    "plt.scatter(X_train, y_train)\n",
    "plt.title('delta PPI vs delta PSF')  \n",
    "plt.xlabel('delta PPI')  \n",
    "plt.ylabel('delta PSF') \n",
    "#plt.ylim([-200, 500])\n",
    "#plt.xlim([-2, 8])\n",
    "plt.show()"
   ]
  },
  {
   "cell_type": "markdown",
   "id": "fc01f3f5",
   "metadata": {},
   "source": [
    "Remove outliers using Local Outlier Factor (k nearest neighbours)"
   ]
  },
  {
   "cell_type": "markdown",
   "id": "00745bd0",
   "metadata": {},
   "source": [
    "# identify outliers in the training dataset\n",
    "lof = LocalOutlierFactor(n_neighbors=8)\n",
    "yhat = lof.fit_predict(X_train)\n",
    "# select all rows that are not outliers\n",
    "mask = yhat != -1\n",
    "X_train, y_train = X_train[mask, :], y_train[mask]"
   ]
  },
  {
   "cell_type": "markdown",
   "id": "3cd103be",
   "metadata": {
    "scrolled": true
   },
   "source": [
    "plt.scatter(X_train, y_train)\n",
    "plt.title('delta PPI vs delta PSF with outliers removed')  \n",
    "plt.xlabel('delta PPI')  \n",
    "plt.ylabel('delta PSF') \n",
    "plt.ylim([-200, 400])\n",
    "plt.xlim([-2, 8])\n",
    "plt.show()"
   ]
  },
  {
   "cell_type": "markdown",
   "id": "6e215a1f",
   "metadata": {},
   "source": [
    "Removing outliers using IQR"
   ]
  },
  {
   "cell_type": "code",
   "execution_count": 17,
   "id": "3f01e56c",
   "metadata": {},
   "outputs": [
    {
     "data": {
      "text/plain": [
       "(-125.67142857142858, 54.46666666666676)"
      ]
     },
     "execution_count": 17,
     "metadata": {},
     "output_type": "execute_result"
    }
   ],
   "source": [
    "# calculate interquartile range\n",
    "q25, q75 = np.percentile(y_train, 25), np.percentile(y_train, 75)\n",
    "iqr = q75 - q25\n",
    "q25, q75"
   ]
  },
  {
   "cell_type": "code",
   "execution_count": 18,
   "id": "be09d8f1",
   "metadata": {},
   "outputs": [
    {
     "data": {
      "text/plain": [
       "(-395.8785714285716, 324.6738095238098)"
      ]
     },
     "execution_count": 18,
     "metadata": {},
     "output_type": "execute_result"
    }
   ],
   "source": [
    "# calculate the outlier cutoff\n",
    "cut_off = iqr * 1.5\n",
    "lower, upper = q25 - cut_off, q75 + cut_off\n",
    "lower, upper"
   ]
  },
  {
   "cell_type": "code",
   "execution_count": 19,
   "id": "02786834",
   "metadata": {},
   "outputs": [
    {
     "data": {
      "text/plain": [
       "array([0, 1, 2, 3, 4, 5, 6, 7], dtype=int64)"
      ]
     },
     "execution_count": 19,
     "metadata": {},
     "output_type": "execute_result"
    }
   ],
   "source": [
    "# remove outliers\n",
    "mask = np.where(y_train < upper )[0]\n",
    "mask = np.where(y_train > lower )[0]\n",
    "mask"
   ]
  },
  {
   "cell_type": "code",
   "execution_count": 20,
   "id": "195626be",
   "metadata": {},
   "outputs": [
    {
     "data": {
      "text/plain": [
       "0"
      ]
     },
     "execution_count": 20,
     "metadata": {},
     "output_type": "execute_result"
    }
   ],
   "source": [
    "og_len = len(y_train)\n",
    "X_train, y_train = X_train[mask, :], y_train[mask]\n",
    "after_len = len(y_train)\n",
    "outliers_removed = og_len-after_len\n",
    "outliers_removed"
   ]
  },
  {
   "cell_type": "markdown",
   "id": "d8b4aac7",
   "metadata": {},
   "source": [
    "Removing outliers using Z score"
   ]
  },
  {
   "cell_type": "markdown",
   "id": "ea5ef4c5",
   "metadata": {},
   "source": [
    "# Z score\n",
    "from scipy import stats\n",
    "import numpy as np\n",
    " \n",
    "z = np.abs(stats.zscore(y_train))\n",
    "print(z)"
   ]
  },
  {
   "cell_type": "markdown",
   "id": "936c5cd2",
   "metadata": {},
   "source": [
    "threshold = 3\n",
    " \n",
    "# Position of the outlier\n",
    "mask = np.where(z < 2)[0]\n",
    "mask "
   ]
  },
  {
   "cell_type": "markdown",
   "id": "068b4512",
   "metadata": {},
   "source": [
    "og_len = len(y_train)"
   ]
  },
  {
   "cell_type": "markdown",
   "id": "a1f82f06",
   "metadata": {},
   "source": [
    "X_train, y_train = X_train[mask, :], y_train[mask]\n",
    "after_len = len(y_train)\n",
    "outliers_removed = og_len-after_len\n",
    "outliers_removed"
   ]
  },
  {
   "cell_type": "markdown",
   "id": "ee052e2c",
   "metadata": {},
   "source": [
    "plt.scatter(X_train, y_train)\n",
    "plt.title('delta PPI vs delta PSF with outliers removed')  \n",
    "plt.xlabel('delta PPI')  \n",
    "plt.ylabel('delta PSF') \n",
    "plt.ylim([-200, 450])\n",
    "plt.xlim([-2, 9])\n",
    "plt.show()"
   ]
  },
  {
   "cell_type": "markdown",
   "id": "6a69d660",
   "metadata": {},
   "source": [
    "## Running regression"
   ]
  },
  {
   "cell_type": "code",
   "execution_count": 21,
   "id": "b8356f4b",
   "metadata": {},
   "outputs": [
    {
     "data": {
      "text/html": [
       "<style>#sk-container-id-2 {color: black;background-color: white;}#sk-container-id-2 pre{padding: 0;}#sk-container-id-2 div.sk-toggleable {background-color: white;}#sk-container-id-2 label.sk-toggleable__label {cursor: pointer;display: block;width: 100%;margin-bottom: 0;padding: 0.3em;box-sizing: border-box;text-align: center;}#sk-container-id-2 label.sk-toggleable__label-arrow:before {content: \"▸\";float: left;margin-right: 0.25em;color: #696969;}#sk-container-id-2 label.sk-toggleable__label-arrow:hover:before {color: black;}#sk-container-id-2 div.sk-estimator:hover label.sk-toggleable__label-arrow:before {color: black;}#sk-container-id-2 div.sk-toggleable__content {max-height: 0;max-width: 0;overflow: hidden;text-align: left;background-color: #f0f8ff;}#sk-container-id-2 div.sk-toggleable__content pre {margin: 0.2em;color: black;border-radius: 0.25em;background-color: #f0f8ff;}#sk-container-id-2 input.sk-toggleable__control:checked~div.sk-toggleable__content {max-height: 200px;max-width: 100%;overflow: auto;}#sk-container-id-2 input.sk-toggleable__control:checked~label.sk-toggleable__label-arrow:before {content: \"▾\";}#sk-container-id-2 div.sk-estimator input.sk-toggleable__control:checked~label.sk-toggleable__label {background-color: #d4ebff;}#sk-container-id-2 div.sk-label input.sk-toggleable__control:checked~label.sk-toggleable__label {background-color: #d4ebff;}#sk-container-id-2 input.sk-hidden--visually {border: 0;clip: rect(1px 1px 1px 1px);clip: rect(1px, 1px, 1px, 1px);height: 1px;margin: -1px;overflow: hidden;padding: 0;position: absolute;width: 1px;}#sk-container-id-2 div.sk-estimator {font-family: monospace;background-color: #f0f8ff;border: 1px dotted black;border-radius: 0.25em;box-sizing: border-box;margin-bottom: 0.5em;}#sk-container-id-2 div.sk-estimator:hover {background-color: #d4ebff;}#sk-container-id-2 div.sk-parallel-item::after {content: \"\";width: 100%;border-bottom: 1px solid gray;flex-grow: 1;}#sk-container-id-2 div.sk-label:hover label.sk-toggleable__label {background-color: #d4ebff;}#sk-container-id-2 div.sk-serial::before {content: \"\";position: absolute;border-left: 1px solid gray;box-sizing: border-box;top: 0;bottom: 0;left: 50%;z-index: 0;}#sk-container-id-2 div.sk-serial {display: flex;flex-direction: column;align-items: center;background-color: white;padding-right: 0.2em;padding-left: 0.2em;position: relative;}#sk-container-id-2 div.sk-item {position: relative;z-index: 1;}#sk-container-id-2 div.sk-parallel {display: flex;align-items: stretch;justify-content: center;background-color: white;position: relative;}#sk-container-id-2 div.sk-item::before, #sk-container-id-2 div.sk-parallel-item::before {content: \"\";position: absolute;border-left: 1px solid gray;box-sizing: border-box;top: 0;bottom: 0;left: 50%;z-index: -1;}#sk-container-id-2 div.sk-parallel-item {display: flex;flex-direction: column;z-index: 1;position: relative;background-color: white;}#sk-container-id-2 div.sk-parallel-item:first-child::after {align-self: flex-end;width: 50%;}#sk-container-id-2 div.sk-parallel-item:last-child::after {align-self: flex-start;width: 50%;}#sk-container-id-2 div.sk-parallel-item:only-child::after {width: 0;}#sk-container-id-2 div.sk-dashed-wrapped {border: 1px dashed gray;margin: 0 0.4em 0.5em 0.4em;box-sizing: border-box;padding-bottom: 0.4em;background-color: white;}#sk-container-id-2 div.sk-label label {font-family: monospace;font-weight: bold;display: inline-block;line-height: 1.2em;}#sk-container-id-2 div.sk-label-container {text-align: center;}#sk-container-id-2 div.sk-container {/* jupyter's `normalize.less` sets `[hidden] { display: none; }` but bootstrap.min.css set `[hidden] { display: none !important; }` so we also need the `!important` here to be able to override the default hidden behavior on the sphinx rendered scikit-learn.org. See: https://github.com/scikit-learn/scikit-learn/issues/21755 */display: inline-block !important;position: relative;}#sk-container-id-2 div.sk-text-repr-fallback {display: none;}</style><div id=\"sk-container-id-2\" class=\"sk-top-container\"><div class=\"sk-text-repr-fallback\"><pre>LinearRegression()</pre><b>In a Jupyter environment, please rerun this cell to show the HTML representation or trust the notebook. <br />On GitHub, the HTML representation is unable to render, please try loading this page with nbviewer.org.</b></div><div class=\"sk-container\" hidden><div class=\"sk-item\"><div class=\"sk-estimator sk-toggleable\"><input class=\"sk-toggleable__control sk-hidden--visually\" id=\"sk-estimator-id-2\" type=\"checkbox\" checked><label for=\"sk-estimator-id-2\" class=\"sk-toggleable__label sk-toggleable__label-arrow\">LinearRegression</label><div class=\"sk-toggleable__content\"><pre>LinearRegression()</pre></div></div></div></div></div>"
      ],
      "text/plain": [
       "LinearRegression()"
      ]
     },
     "execution_count": 21,
     "metadata": {},
     "output_type": "execute_result"
    }
   ],
   "source": [
    "regressor = LinearRegression()  \n",
    "regressor.fit(X_train, y_train) #training the algorithm"
   ]
  },
  {
   "cell_type": "code",
   "execution_count": 22,
   "id": "9abd9374",
   "metadata": {},
   "outputs": [
    {
     "name": "stdout",
     "output_type": "stream",
     "text": [
      "[65.36708691]\n",
      "[[-63.32441718]]\n"
     ]
    }
   ],
   "source": [
    "#To retrieve the intercept:\n",
    "print(regressor.intercept_)\n",
    "\n",
    "#For retrieving the slope:\n",
    "print(regressor.coef_)"
   ]
  },
  {
   "cell_type": "markdown",
   "id": "6b843881",
   "metadata": {},
   "source": [
    "Evaluating Model"
   ]
  },
  {
   "cell_type": "code",
   "execution_count": 23,
   "id": "145d29c6",
   "metadata": {},
   "outputs": [],
   "source": [
    "y_pred = regressor.predict(X_test)"
   ]
  },
  {
   "cell_type": "code",
   "execution_count": 24,
   "id": "72899e08",
   "metadata": {},
   "outputs": [
    {
     "data": {
      "text/html": [
       "<div>\n",
       "<style scoped>\n",
       "    .dataframe tbody tr th:only-of-type {\n",
       "        vertical-align: middle;\n",
       "    }\n",
       "\n",
       "    .dataframe tbody tr th {\n",
       "        vertical-align: top;\n",
       "    }\n",
       "\n",
       "    .dataframe thead th {\n",
       "        text-align: right;\n",
       "    }\n",
       "</style>\n",
       "<table border=\"1\" class=\"dataframe\">\n",
       "  <thead>\n",
       "    <tr style=\"text-align: right;\">\n",
       "      <th></th>\n",
       "      <th>Actual</th>\n",
       "      <th>Predicted</th>\n",
       "    </tr>\n",
       "  </thead>\n",
       "  <tbody>\n",
       "    <tr>\n",
       "      <th>0</th>\n",
       "      <td>-67.0</td>\n",
       "      <td>59.034645</td>\n",
       "    </tr>\n",
       "    <tr>\n",
       "      <th>1</th>\n",
       "      <td>23.0</td>\n",
       "      <td>-219.592790</td>\n",
       "    </tr>\n",
       "  </tbody>\n",
       "</table>\n",
       "</div>"
      ],
      "text/plain": [
       "   Actual   Predicted\n",
       "0   -67.0   59.034645\n",
       "1    23.0 -219.592790"
      ]
     },
     "execution_count": 24,
     "metadata": {},
     "output_type": "execute_result"
    }
   ],
   "source": [
    "actual_predicted_df = pd.DataFrame({'Actual': y_test.flatten(), 'Predicted': y_pred.flatten()})\n",
    "actual_predicted_df"
   ]
  },
  {
   "cell_type": "code",
   "execution_count": 25,
   "id": "b3d4c197",
   "metadata": {},
   "outputs": [
    {
     "data": {
      "image/png": "[encoded data removed]",
      "text/plain": [
       "<Figure size 640x480 with 1 Axes>"
      ]
     },
     "metadata": {},
     "output_type": "display_data"
    }
   ],
   "source": [
    "fig, ax = plt.subplots()\n",
    "ax.plot(y_pred, label='Predicted')\n",
    "ax.plot(y_test, label='Actual')\n",
    "plt.title('Predicted and Actual')  \n",
    "plt.xlabel('delta PPI')  \n",
    "plt.ylabel('delta PSF')  \n",
    "leg = ax.legend()"
   ]
  },
  {
   "cell_type": "code",
   "execution_count": 26,
   "id": "21aec01d",
   "metadata": {},
   "outputs": [
    {
     "name": "stdout",
     "output_type": "stream",
     "text": [
      "Mean Absolute Error: 184.31371778610213\n",
      "Mean Squared Error: 37367.99686652011\n",
      "Root Mean Squared Error: 193.3080362181565\n",
      "R Square Score: -17.453331785935855\n"
     ]
    }
   ],
   "source": [
    "print('Mean Absolute Error:', metrics.mean_absolute_error(y_test, y_pred))  \n",
    "print('Mean Squared Error:', metrics.mean_squared_error(y_test, y_pred))  \n",
    "print('Root Mean Squared Error:', np.sqrt(metrics.mean_squared_error(y_test, y_pred)))\n",
    "print('R Square Score:', metrics.r2_score(y_test, y_pred))"
   ]
  },
  {
   "cell_type": "markdown",
   "id": "ec8e644c",
   "metadata": {},
   "source": [
    "Applying forecasting to next 10 time quarters not in train data "
   ]
  },
  {
   "cell_type": "code",
   "execution_count": 27,
   "id": "8e7b40c2",
   "metadata": {},
   "outputs": [
    {
     "name": "stdout",
     "output_type": "stream",
     "text": [
      "65.36708690992401 -63.32441717550129\n"
     ]
    }
   ],
   "source": [
    "# intercept a is monthly change in price for x after controlling for change in PPI\n",
    "a = float(regressor.intercept_)\n",
    "\n",
    "# gradient b is sensitivity of change in price of condo w.r.t. PPI\n",
    "b = float(regressor.coef_)\n",
    "\n",
    "print(a, b)"
   ]
  },
  {
   "cell_type": "code",
   "execution_count": 28,
   "id": "76921a12",
   "metadata": {},
   "outputs": [
    {
     "data": {
      "text/plain": [
       "Timestamp('2021-01-01 00:00:00')"
      ]
     },
     "execution_count": 28,
     "metadata": {},
     "output_type": "execute_result"
    }
   ],
   "source": [
    "pd.to_datetime(df.dropna().index[-1]) + pd.DateOffset(months=3)"
   ]
  },
  {
   "cell_type": "code",
   "execution_count": 29,
   "id": "1cad4896",
   "metadata": {},
   "outputs": [
    {
     "name": "stdout",
     "output_type": "stream",
     "text": [
      "1497.0 -22.0 2021-01-01 00:00:00\n"
     ]
    }
   ],
   "source": [
    "Px_N = df[\"Unit Price ($psf)\"].dropna().iloc[-1]         # latest psf to use in forecasting equation\n",
    "ppi_avg = np.mean(y_test)\n",
    "forecast_date = pd.to_datetime(df.dropna().index[-1]) + pd.DateOffset(months=3)\n",
    "print(Px_N, ppi_avg, forecast_date)"
   ]
  },
  {
   "cell_type": "code",
   "execution_count": 30,
   "id": "cec47a90",
   "metadata": {},
   "outputs": [
    {
     "data": {
      "text/html": [
       "<div>\n",
       "<style scoped>\n",
       "    .dataframe tbody tr th:only-of-type {\n",
       "        vertical-align: middle;\n",
       "    }\n",
       "\n",
       "    .dataframe tbody tr th {\n",
       "        vertical-align: top;\n",
       "    }\n",
       "\n",
       "    .dataframe thead th {\n",
       "        text-align: right;\n",
       "    }\n",
       "</style>\n",
       "<table border=\"1\" class=\"dataframe\">\n",
       "  <thead>\n",
       "    <tr style=\"text-align: right;\">\n",
       "      <th></th>\n",
       "      <th>Forecasted</th>\n",
       "    </tr>\n",
       "    <tr>\n",
       "      <th>Index</th>\n",
       "      <th></th>\n",
       "    </tr>\n",
       "  </thead>\n",
       "  <tbody>\n",
       "    <tr>\n",
       "      <th>2021-01-01</th>\n",
       "      <td>2955.504265</td>\n",
       "    </tr>\n",
       "    <tr>\n",
       "      <th>2021-04-01</th>\n",
       "      <td>4414.008530</td>\n",
       "    </tr>\n",
       "    <tr>\n",
       "      <th>2021-07-01</th>\n",
       "      <td>5872.512794</td>\n",
       "    </tr>\n",
       "    <tr>\n",
       "      <th>2021-10-01</th>\n",
       "      <td>7331.017059</td>\n",
       "    </tr>\n",
       "    <tr>\n",
       "      <th>2022-01-01</th>\n",
       "      <td>8789.521324</td>\n",
       "    </tr>\n",
       "    <tr>\n",
       "      <th>2022-04-01</th>\n",
       "      <td>10248.025589</td>\n",
       "    </tr>\n",
       "    <tr>\n",
       "      <th>2022-07-01</th>\n",
       "      <td>11706.529853</td>\n",
       "    </tr>\n",
       "    <tr>\n",
       "      <th>2022-10-01</th>\n",
       "      <td>13165.034118</td>\n",
       "    </tr>\n",
       "    <tr>\n",
       "      <th>2023-01-01</th>\n",
       "      <td>14623.538383</td>\n",
       "    </tr>\n",
       "    <tr>\n",
       "      <th>2023-04-01</th>\n",
       "      <td>16082.042648</td>\n",
       "    </tr>\n",
       "    <tr>\n",
       "      <th>2023-07-01</th>\n",
       "      <td>17540.546912</td>\n",
       "    </tr>\n",
       "    <tr>\n",
       "      <th>2023-10-01</th>\n",
       "      <td>18999.051177</td>\n",
       "    </tr>\n",
       "  </tbody>\n",
       "</table>\n",
       "</div>"
      ],
      "text/plain": [
       "              Forecasted\n",
       "Index                   \n",
       "2021-01-01   2955.504265\n",
       "2021-04-01   4414.008530\n",
       "2021-07-01   5872.512794\n",
       "2021-10-01   7331.017059\n",
       "2022-01-01   8789.521324\n",
       "2022-04-01  10248.025589\n",
       "2022-07-01  11706.529853\n",
       "2022-10-01  13165.034118\n",
       "2023-01-01  14623.538383\n",
       "2023-04-01  16082.042648\n",
       "2023-07-01  17540.546912\n",
       "2023-10-01  18999.051177"
      ]
     },
     "execution_count": 30,
     "metadata": {},
     "output_type": "execute_result"
    }
   ],
   "source": [
    "result = []\n",
    "for i in range(12):\n",
    "    Px_i = Px_N+(a+b*ppi_avg)\n",
    "    result.append([forecast_date, Px_i])\n",
    "    Px_N = Px_i\n",
    "    forecast_date += pd.DateOffset(months=3)\n",
    "\n",
    "result_df = pd.DataFrame(result, columns=[\"Index\",\"Forecasted\"]).set_index([\"Index\"])\n",
    "result_df"
   ]
  },
  {
   "cell_type": "code",
   "execution_count": 31,
   "id": "a5b7519a",
   "metadata": {
    "scrolled": true
   },
   "outputs": [
    {
     "data": {
      "text/html": [
       "<div>\n",
       "<style scoped>\n",
       "    .dataframe tbody tr th:only-of-type {\n",
       "        vertical-align: middle;\n",
       "    }\n",
       "\n",
       "    .dataframe tbody tr th {\n",
       "        vertical-align: top;\n",
       "    }\n",
       "\n",
       "    .dataframe thead th {\n",
       "        text-align: right;\n",
       "    }\n",
       "</style>\n",
       "<table border=\"1\" class=\"dataframe\">\n",
       "  <thead>\n",
       "    <tr style=\"text-align: right;\">\n",
       "      <th></th>\n",
       "      <th>Area (Sqft)</th>\n",
       "      <th>Forecasted</th>\n",
       "      <th>No. of Units</th>\n",
       "      <th>PPI</th>\n",
       "      <th>Price ($)</th>\n",
       "      <th>Quarter</th>\n",
       "      <th>S/N</th>\n",
       "      <th>Unit Price ($psf)</th>\n",
       "      <th>Year</th>\n",
       "      <th>delta_PPI</th>\n",
       "      <th>delta_PSF</th>\n",
       "      <th>property_type</th>\n",
       "      <th>quarter</th>\n",
       "    </tr>\n",
       "    <tr>\n",
       "      <th>Index</th>\n",
       "      <th></th>\n",
       "      <th></th>\n",
       "      <th></th>\n",
       "      <th></th>\n",
       "      <th></th>\n",
       "      <th></th>\n",
       "      <th></th>\n",
       "      <th></th>\n",
       "      <th></th>\n",
       "      <th></th>\n",
       "      <th></th>\n",
       "      <th></th>\n",
       "      <th></th>\n",
       "    </tr>\n",
       "  </thead>\n",
       "  <tbody>\n",
       "    <tr>\n",
       "      <th>1990-01-01</th>\n",
       "      <td>NaN</td>\n",
       "      <td>NaN</td>\n",
       "      <td>NaN</td>\n",
       "      <td>41.6</td>\n",
       "      <td>NaN</td>\n",
       "      <td>Q1</td>\n",
       "      <td>NaN</td>\n",
       "      <td>NaN</td>\n",
       "      <td>1990.0</td>\n",
       "      <td>NaN</td>\n",
       "      <td>NaN</td>\n",
       "      <td>Non-Landed</td>\n",
       "      <td>1990-Q1</td>\n",
       "    </tr>\n",
       "    <tr>\n",
       "      <th>1990-04-01</th>\n",
       "      <td>NaN</td>\n",
       "      <td>NaN</td>\n",
       "      <td>NaN</td>\n",
       "      <td>43.1</td>\n",
       "      <td>NaN</td>\n",
       "      <td>Q2</td>\n",
       "      <td>NaN</td>\n",
       "      <td>NaN</td>\n",
       "      <td>1990.0</td>\n",
       "      <td>NaN</td>\n",
       "      <td>NaN</td>\n",
       "      <td>Non-Landed</td>\n",
       "      <td>1990-Q2</td>\n",
       "    </tr>\n",
       "    <tr>\n",
       "      <th>1990-07-01</th>\n",
       "      <td>NaN</td>\n",
       "      <td>NaN</td>\n",
       "      <td>NaN</td>\n",
       "      <td>42.7</td>\n",
       "      <td>NaN</td>\n",
       "      <td>Q3</td>\n",
       "      <td>NaN</td>\n",
       "      <td>NaN</td>\n",
       "      <td>1990.0</td>\n",
       "      <td>NaN</td>\n",
       "      <td>NaN</td>\n",
       "      <td>Non-Landed</td>\n",
       "      <td>1990-Q3</td>\n",
       "    </tr>\n",
       "    <tr>\n",
       "      <th>1990-10-01</th>\n",
       "      <td>NaN</td>\n",
       "      <td>NaN</td>\n",
       "      <td>NaN</td>\n",
       "      <td>41.8</td>\n",
       "      <td>NaN</td>\n",
       "      <td>Q4</td>\n",
       "      <td>NaN</td>\n",
       "      <td>NaN</td>\n",
       "      <td>1990.0</td>\n",
       "      <td>NaN</td>\n",
       "      <td>NaN</td>\n",
       "      <td>Non-Landed</td>\n",
       "      <td>1990-Q4</td>\n",
       "    </tr>\n",
       "    <tr>\n",
       "      <th>1991-01-01</th>\n",
       "      <td>NaN</td>\n",
       "      <td>NaN</td>\n",
       "      <td>NaN</td>\n",
       "      <td>42.8</td>\n",
       "      <td>NaN</td>\n",
       "      <td>Q1</td>\n",
       "      <td>NaN</td>\n",
       "      <td>NaN</td>\n",
       "      <td>1991.0</td>\n",
       "      <td>NaN</td>\n",
       "      <td>NaN</td>\n",
       "      <td>Non-Landed</td>\n",
       "      <td>1991-Q1</td>\n",
       "    </tr>\n",
       "    <tr>\n",
       "      <th>...</th>\n",
       "      <td>...</td>\n",
       "      <td>...</td>\n",
       "      <td>...</td>\n",
       "      <td>...</td>\n",
       "      <td>...</td>\n",
       "      <td>...</td>\n",
       "      <td>...</td>\n",
       "      <td>...</td>\n",
       "      <td>...</td>\n",
       "      <td>...</td>\n",
       "      <td>...</td>\n",
       "      <td>...</td>\n",
       "      <td>...</td>\n",
       "    </tr>\n",
       "    <tr>\n",
       "      <th>2022-10-01</th>\n",
       "      <td>NaN</td>\n",
       "      <td>13165.034118</td>\n",
       "      <td>NaN</td>\n",
       "      <td>NaN</td>\n",
       "      <td>NaN</td>\n",
       "      <td>NaN</td>\n",
       "      <td>NaN</td>\n",
       "      <td>NaN</td>\n",
       "      <td>NaN</td>\n",
       "      <td>NaN</td>\n",
       "      <td>NaN</td>\n",
       "      <td>NaN</td>\n",
       "      <td>NaN</td>\n",
       "    </tr>\n",
       "    <tr>\n",
       "      <th>2023-01-01</th>\n",
       "      <td>NaN</td>\n",
       "      <td>14623.538383</td>\n",
       "      <td>NaN</td>\n",
       "      <td>NaN</td>\n",
       "      <td>NaN</td>\n",
       "      <td>NaN</td>\n",
       "      <td>NaN</td>\n",
       "      <td>NaN</td>\n",
       "      <td>NaN</td>\n",
       "      <td>NaN</td>\n",
       "      <td>NaN</td>\n",
       "      <td>NaN</td>\n",
       "      <td>NaN</td>\n",
       "    </tr>\n",
       "    <tr>\n",
       "      <th>2023-04-01</th>\n",
       "      <td>NaN</td>\n",
       "      <td>16082.042648</td>\n",
       "      <td>NaN</td>\n",
       "      <td>NaN</td>\n",
       "      <td>NaN</td>\n",
       "      <td>NaN</td>\n",
       "      <td>NaN</td>\n",
       "      <td>NaN</td>\n",
       "      <td>NaN</td>\n",
       "      <td>NaN</td>\n",
       "      <td>NaN</td>\n",
       "      <td>NaN</td>\n",
       "      <td>NaN</td>\n",
       "    </tr>\n",
       "    <tr>\n",
       "      <th>2023-07-01</th>\n",
       "      <td>NaN</td>\n",
       "      <td>17540.546912</td>\n",
       "      <td>NaN</td>\n",
       "      <td>NaN</td>\n",
       "      <td>NaN</td>\n",
       "      <td>NaN</td>\n",
       "      <td>NaN</td>\n",
       "      <td>NaN</td>\n",
       "      <td>NaN</td>\n",
       "      <td>NaN</td>\n",
       "      <td>NaN</td>\n",
       "      <td>NaN</td>\n",
       "      <td>NaN</td>\n",
       "    </tr>\n",
       "    <tr>\n",
       "      <th>2023-10-01</th>\n",
       "      <td>NaN</td>\n",
       "      <td>18999.051177</td>\n",
       "      <td>NaN</td>\n",
       "      <td>NaN</td>\n",
       "      <td>NaN</td>\n",
       "      <td>NaN</td>\n",
       "      <td>NaN</td>\n",
       "      <td>NaN</td>\n",
       "      <td>NaN</td>\n",
       "      <td>NaN</td>\n",
       "      <td>NaN</td>\n",
       "      <td>NaN</td>\n",
       "      <td>NaN</td>\n",
       "    </tr>\n",
       "  </tbody>\n",
       "</table>\n",
       "<p>136 rows × 13 columns</p>\n",
       "</div>"
      ],
      "text/plain": [
       "            Area (Sqft)    Forecasted  No. of Units   PPI  Price ($) Quarter  \\\n",
       "Index                                                                          \n",
       "1990-01-01          NaN           NaN           NaN  41.6        NaN      Q1   \n",
       "1990-04-01          NaN           NaN           NaN  43.1        NaN      Q2   \n",
       "1990-07-01          NaN           NaN           NaN  42.7        NaN      Q3   \n",
       "1990-10-01          NaN           NaN           NaN  41.8        NaN      Q4   \n",
       "1991-01-01          NaN           NaN           NaN  42.8        NaN      Q1   \n",
       "...                 ...           ...           ...   ...        ...     ...   \n",
       "2022-10-01          NaN  13165.034118           NaN   NaN        NaN     NaN   \n",
       "2023-01-01          NaN  14623.538383           NaN   NaN        NaN     NaN   \n",
       "2023-04-01          NaN  16082.042648           NaN   NaN        NaN     NaN   \n",
       "2023-07-01          NaN  17540.546912           NaN   NaN        NaN     NaN   \n",
       "2023-10-01          NaN  18999.051177           NaN   NaN        NaN     NaN   \n",
       "\n",
       "            S/N  Unit Price ($psf)    Year  delta_PPI  delta_PSF  \\\n",
       "Index                                                              \n",
       "1990-01-01  NaN                NaN  1990.0        NaN        NaN   \n",
       "1990-04-01  NaN                NaN  1990.0        NaN        NaN   \n",
       "1990-07-01  NaN                NaN  1990.0        NaN        NaN   \n",
       "1990-10-01  NaN                NaN  1990.0        NaN        NaN   \n",
       "1991-01-01  NaN                NaN  1991.0        NaN        NaN   \n",
       "...         ...                ...     ...        ...        ...   \n",
       "2022-10-01  NaN                NaN     NaN        NaN        NaN   \n",
       "2023-01-01  NaN                NaN     NaN        NaN        NaN   \n",
       "2023-04-01  NaN                NaN     NaN        NaN        NaN   \n",
       "2023-07-01  NaN                NaN     NaN        NaN        NaN   \n",
       "2023-10-01  NaN                NaN     NaN        NaN        NaN   \n",
       "\n",
       "           property_type  quarter  \n",
       "Index                              \n",
       "1990-01-01    Non-Landed  1990-Q1  \n",
       "1990-04-01    Non-Landed  1990-Q2  \n",
       "1990-07-01    Non-Landed  1990-Q3  \n",
       "1990-10-01    Non-Landed  1990-Q4  \n",
       "1991-01-01    Non-Landed  1991-Q1  \n",
       "...                  ...      ...  \n",
       "2022-10-01           NaN      NaN  \n",
       "2023-01-01           NaN      NaN  \n",
       "2023-04-01           NaN      NaN  \n",
       "2023-07-01           NaN      NaN  \n",
       "2023-10-01           NaN      NaN  \n",
       "\n",
       "[136 rows x 13 columns]"
      ]
     },
     "execution_count": 31,
     "metadata": {},
     "output_type": "execute_result"
    }
   ],
   "source": [
    "new_df = df.combine_first(result_df)\n",
    "new_df"
   ]
  },
  {
   "cell_type": "markdown",
   "id": "1b6beabb",
   "metadata": {},
   "source": [
    "Store regression results and evaluation metric nicely"
   ]
  },
  {
   "cell_type": "markdown",
   "id": "71dbc490",
   "metadata": {},
   "source": [
    "Plot out graphs of condo price trend with forecasted values labelled in a different colour"
   ]
  },
  {
   "cell_type": "code",
   "execution_count": 32,
   "id": "50a0a43b",
   "metadata": {},
   "outputs": [
    {
     "data": {
      "image/png": "[encoded data removed]",
      "text/plain": [
       "<Figure size 640x480 with 1 Axes>"
      ]
     },
     "metadata": {},
     "output_type": "display_data"
    }
   ],
   "source": [
    "ax = df.plot(y='Unit Price ($psf)', style='o')\n",
    "new_df.plot(y='Forecasted', style='x', color='red', ax=ax)\n",
    "plt.title('delta PPI vs delta PSF')  \n",
    "plt.xlabel('delta PPI')  \n",
    "plt.ylabel('PSF')  \n",
    "plt.show()"
   ]
  },
  {
   "cell_type": "code",
   "execution_count": 33,
   "id": "ae46648d",
   "metadata": {},
   "outputs": [
    {
     "data": {
      "text/plain": [
       "[[], [], [], [], [], [], [], [], [], []]"
      ]
     },
     "execution_count": 33,
     "metadata": {},
     "output_type": "execute_result"
    }
   ],
   "source": [
    "[[] for i in range(10)]"
   ]
  },
  {
   "cell_type": "markdown",
   "id": "86ecb885",
   "metadata": {},
   "source": [
    "Save results to SQL"
   ]
  },
  {
   "cell_type": "code",
   "execution_count": 34,
   "id": "24300cd9",
   "metadata": {},
   "outputs": [],
   "source": [
    "import sqlalchemy"
   ]
  },
  {
   "cell_type": "code",
   "execution_count": 42,
   "id": "239f117a",
   "metadata": {},
   "outputs": [
    {
     "data": {
      "text/html": [
       "<div>\n",
       "<style scoped>\n",
       "    .dataframe tbody tr th:only-of-type {\n",
       "        vertical-align: middle;\n",
       "    }\n",
       "\n",
       "    .dataframe tbody tr th {\n",
       "        vertical-align: top;\n",
       "    }\n",
       "\n",
       "    .dataframe thead th {\n",
       "        text-align: right;\n",
       "    }\n",
       "</style>\n",
       "<table border=\"1\" class=\"dataframe\">\n",
       "  <thead>\n",
       "    <tr style=\"text-align: right;\">\n",
       "      <th></th>\n",
       "      <th>PPI</th>\n",
       "      <th>Unit Price ($psf)</th>\n",
       "      <th>Forecasted</th>\n",
       "    </tr>\n",
       "    <tr>\n",
       "      <th>Index</th>\n",
       "      <th></th>\n",
       "      <th></th>\n",
       "      <th></th>\n",
       "    </tr>\n",
       "  </thead>\n",
       "  <tbody>\n",
       "    <tr>\n",
       "      <th>1990-01-01</th>\n",
       "      <td>41.6</td>\n",
       "      <td>NaN</td>\n",
       "      <td>NaN</td>\n",
       "    </tr>\n",
       "    <tr>\n",
       "      <th>1990-04-01</th>\n",
       "      <td>43.1</td>\n",
       "      <td>NaN</td>\n",
       "      <td>NaN</td>\n",
       "    </tr>\n",
       "    <tr>\n",
       "      <th>1990-07-01</th>\n",
       "      <td>42.7</td>\n",
       "      <td>NaN</td>\n",
       "      <td>NaN</td>\n",
       "    </tr>\n",
       "    <tr>\n",
       "      <th>1990-10-01</th>\n",
       "      <td>41.8</td>\n",
       "      <td>NaN</td>\n",
       "      <td>NaN</td>\n",
       "    </tr>\n",
       "    <tr>\n",
       "      <th>1991-01-01</th>\n",
       "      <td>42.8</td>\n",
       "      <td>NaN</td>\n",
       "      <td>NaN</td>\n",
       "    </tr>\n",
       "    <tr>\n",
       "      <th>...</th>\n",
       "      <td>...</td>\n",
       "      <td>...</td>\n",
       "      <td>...</td>\n",
       "    </tr>\n",
       "    <tr>\n",
       "      <th>2022-10-01</th>\n",
       "      <td>NaN</td>\n",
       "      <td>NaN</td>\n",
       "      <td>13165.034118</td>\n",
       "    </tr>\n",
       "    <tr>\n",
       "      <th>2023-01-01</th>\n",
       "      <td>NaN</td>\n",
       "      <td>NaN</td>\n",
       "      <td>14623.538383</td>\n",
       "    </tr>\n",
       "    <tr>\n",
       "      <th>2023-04-01</th>\n",
       "      <td>NaN</td>\n",
       "      <td>NaN</td>\n",
       "      <td>16082.042648</td>\n",
       "    </tr>\n",
       "    <tr>\n",
       "      <th>2023-07-01</th>\n",
       "      <td>NaN</td>\n",
       "      <td>NaN</td>\n",
       "      <td>17540.546912</td>\n",
       "    </tr>\n",
       "    <tr>\n",
       "      <th>2023-10-01</th>\n",
       "      <td>NaN</td>\n",
       "      <td>NaN</td>\n",
       "      <td>18999.051177</td>\n",
       "    </tr>\n",
       "  </tbody>\n",
       "</table>\n",
       "<p>136 rows × 3 columns</p>\n",
       "</div>"
      ],
      "text/plain": [
       "             PPI  Unit Price ($psf)    Forecasted\n",
       "Index                                            \n",
       "1990-01-01  41.6                NaN           NaN\n",
       "1990-04-01  43.1                NaN           NaN\n",
       "1990-07-01  42.7                NaN           NaN\n",
       "1990-10-01  41.8                NaN           NaN\n",
       "1991-01-01  42.8                NaN           NaN\n",
       "...          ...                ...           ...\n",
       "2022-10-01   NaN                NaN  13165.034118\n",
       "2023-01-01   NaN                NaN  14623.538383\n",
       "2023-04-01   NaN                NaN  16082.042648\n",
       "2023-07-01   NaN                NaN  17540.546912\n",
       "2023-10-01   NaN                NaN  18999.051177\n",
       "\n",
       "[136 rows x 3 columns]"
      ]
     },
     "execution_count": 42,
     "metadata": {},
     "output_type": "execute_result"
    }
   ],
   "source": [
    "sql_df = new_df[[\"PPI\", \"Unit Price ($psf)\", \"Forecasted\"]]\n",
    "sql_df"
   ]
  },
  {
   "cell_type": "code",
   "execution_count": 36,
   "id": "ec7ba14d",
   "metadata": {},
   "outputs": [],
   "source": [
    "name = \"D15\"\n",
    "engine = sqlalchemy.create_engine('sqlite:///'+name)"
   ]
  },
  {
   "cell_type": "code",
   "execution_count": 46,
   "id": "a615f780",
   "metadata": {},
   "outputs": [
    {
     "data": {
      "text/plain": [
       "136"
      ]
     },
     "execution_count": 46,
     "metadata": {},
     "output_type": "execute_result"
    }
   ],
   "source": [
    "sql_df.to_sql(\"PEBBLE-BAY\", engine, if_exists='replace', index=True)"
   ]
  },
  {
   "cell_type": "code",
   "execution_count": null,
   "id": "91f3be98",
   "metadata": {},
   "outputs": [],
   "source": []
  }
 ],
 "metadata": {
  "kernelspec": {
   "display_name": "Project",
   "language": "python",
   "name": "project"
  },
  "language_info": {
   "codemirror_mode": {
    "name": "ipython",
    "version": 3
   },
   "file_extension": ".py",
   "mimetype": "text/x-python",
   "name": "python",
   "nbconvert_exporter": "python",
   "pygments_lexer": "ipython3",
   "version": "3.9.7"
  }
 },
 "nbformat": 4,
 "nbformat_minor": 5
}
