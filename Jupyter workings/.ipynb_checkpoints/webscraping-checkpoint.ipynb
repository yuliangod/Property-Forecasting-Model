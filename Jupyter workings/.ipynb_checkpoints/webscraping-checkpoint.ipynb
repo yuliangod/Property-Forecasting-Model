{
 "cells": [
  {
   "cell_type": "code",
   "execution_count": 1,
   "metadata": {},
   "outputs": [],
   "source": [
    "from selenium import webdriver\n",
    "from selenium.webdriver.common.keys import Keys\n",
    "from selenium.webdriver.common.by import By\n",
    "from selenium.webdriver.support.ui import WebDriverWait \n",
    "from selenium.webdriver.support import expected_conditions as EC\n",
    "import time\n",
    "import re\n",
    "import pandas as pd"
   ]
  },
  {
   "cell_type": "code",
   "execution_count": 2,
   "metadata": {},
   "outputs": [],
   "source": [
    "condonames=['VILLA MARINA','PEBBLE BAY','WATER PLACE','TANJONG RIA CONDOMINIUM',\n",
    " 'MANDARIN GARDENS','LEGENDA AT JOO CHIAT','THE SHORE RESIDENCES',\n",
    " 'CASUARINA COVE','SANCTUARY GREEN','RIVEREDGE',\"COTE DAZUR\",'SILVERSEA',\n",
    " 'COSTA RHU','CAMELOT BY-THE-WATER','DUNMAN VIEW','KATONG PARK TOWERS']\n",
    "\n",
    "for i in range(len(condonames)):\n",
    "    condonames[i]=condonames[i].lower().replace(\" \",\"-\")"
   ]
  },
  {
   "cell_type": "code",
   "execution_count": 3,
   "metadata": {},
   "outputs": [],
   "source": [
    "#Xpaths \n",
    "hamburger_btn = \"//div[@class='jsx-3208738789 header-menu-item']\"\n",
    "login_btn = \"//div[@class='jsx-1385425452 menu-item']\"\n",
    "agent_btn = \"//span[text()='Agent']\"\n",
    "login_btn2 = \"//center[text()='Login']\"\n",
    "login_btn3 = \"//center[text()='LOGIN']\"\n",
    "\n",
    "attr_tbl = '//*[@id=\"summary\"]/div/div[2]/div/div[1]/span/div/div/div/div/div/div/table/tbody'\n",
    "\n",
    "showmore='//*[@id=\"summary\"]/div/div[2]/div/div[1]/span/div/div/div/div/div/div/table/tbody/tr[6]/td[3]/h4/div/span/span[1]/span/span/span[2]/a'\n",
    "\n",
    "transaction_tbl='//*[@id=\"SalesTransaction-panel-sales\"]/div/div/div/div/div/div[1]/div/div/div/ul/li[8]/div/div[1]'\n",
    "transactions_tab = '//*[@id=\"SalesTransaction-tab-sales\"]'\n",
    "profitable_tab = '//*[@id=\"SalesTransaction-tab-profitable\"]'\n",
    "unprofitable_tab = '//*[@id=\"SalesTransaction-tab-unprofitable\"]'\n",
    "\n",
    "ddmenu='//*[@id=\"SalesTransaction-panel-sales\"]/div/div/div/div/div/div[1]/div/div/div/ul/li[8]/div/div[1]'\n",
    "rows100='//*[@id=\"SalesTransaction-panel-sales\"]/div/div/div/div/div/div[1]/div/div/div/ul/li[8]/div/div[2]/div/div/div/div[2]/div/div/div/div[4]'\n",
    "\n",
    "annoyingpopout='//*[@class=\"_hj-kWRoL__styles__openStateToggle\"]'"
   ]
  },
  {
   "cell_type": "code",
   "execution_count": 4,
   "metadata": {},
   "outputs": [],
   "source": [
    "def readtext(xpath): \n",
    "    text=driver.find_element(By.XPATH,xpath).text\n",
    "    return text"
   ]
  },
  {
   "cell_type": "code",
   "execution_count": 5,
   "metadata": {},
   "outputs": [],
   "source": [
    "#scraping condo basic attributes\n",
    "def CondoAtttributes():\n",
    "    \n",
    "    try:\n",
    "        #click on See more\n",
    "        clickbutton(showmore)\n",
    "    except:\n",
    "        print(\"no seemore\")\n",
    "    finally:\n",
    "        #scraping from table\n",
    "        basicinfodict={}\n",
    "        rows= len( readtext(attr_tbl).splitlines() ) /3\n",
    "        \n",
    "        for i in range (1,int(rows)):\n",
    "            colname = driver.find_element(By.XPATH,'//*[@id=\"summary\"]/div/div[2]/div/div[1]/span/div/div/div/div/div/div/table/tbody/tr['+str(i)+']/td[1]/h3').text\n",
    "            detail = driver.find_element(By.XPATH,'//*[@id=\"summary\"]/div/div[2]/div/div[1]/span/div/div/div/div/div/div/table/tbody/tr['+str(i)+']/td[3]/h4').text\n",
    "            basicinfodict[colname]=detail\n",
    "\n",
    "        \n",
    "        PostalCode      =   basicinfodict[\"Postal Code\"].splitlines()\n",
    "        ProjectName     =   basicinfodict[\"Project Name\"]\n",
    "        District        =   basicinfodict['District/Planning Area'].split(\" / \")[0]\n",
    "        NumberofUnits   =   basicinfodict['Number of Units'].split(\" \")[0]\n",
    "        PriceRange      =   basicinfodict['Indicative Price Range / Average*'].split()[-2]\n",
    "        Tenure          =   basicinfodict['Tenure']\n",
    "        #TenureFrom      =   int(Tenure[-4:])\n",
    "        #Age             =   2023-TenureFrom\n",
    "\n",
    "        Records         =   readtext(transactions_tab)\n",
    "        Records         =   int(\"\".join(re.findall(\"\\d\",Records)))\n",
    "\n",
    "        Profitable      =   readtext(profitable_tab)\n",
    "        Profitable      =   int(\"\".join(re.findall(\"\\d\",Profitable)))\n",
    "\n",
    "        Unprofitable    =   readtext(unprofitable_tab)\n",
    "        Unprofitable    =   int(\"\".join(re.findall(\"\\d\",Unprofitable)))\n",
    "\n",
    "        basicinfolist = [PostalCode, ProjectName,District,NumberofUnits,PriceRange,Tenure,Records,Profitable,Unprofitable]\n",
    "        \n",
    "    return basicinfolist"
   ]
  },
  {
   "cell_type": "code",
   "execution_count": 6,
   "metadata": {},
   "outputs": [],
   "source": [
    "def readrow(i):\n",
    "    row = driver.find_element(By.XPATH,'//*[@id=\"SalesTransaction-panel-sales\"]/div/div/div/div/div/div[1]/div/div/div/div/div/div/table/tbody/tr[' + str(i) + ']')\n",
    "    row = row.text.splitlines()\n",
    "\n",
    "    #splitting strata and private\n",
    "    typestrata = row[7].split()\n",
    "    row[7] = typestrata[0]\n",
    "    row.insert(8 , typestrata[1])\n",
    "    row.insert(0 , condosdf.loc[len(condosdf)-1,'Project Name'])\n",
    "    return row"
   ]
  },
  {
   "cell_type": "markdown",
   "metadata": {},
   "source": []
  },
  {
   "cell_type": "code",
   "execution_count": 7,
   "metadata": {},
   "outputs": [],
   "source": [
    "def clickbutton(path):\n",
    "    element = driver.find_element(By.XPATH, path)\n",
    "    element.click()"
   ]
  },
  {
   "cell_type": "code",
   "execution_count": 8,
   "metadata": {},
   "outputs": [
    {
     "name": "stderr",
     "output_type": "stream",
     "text": [
      "C:\\Users\\ACER\\AppData\\Local\\Temp/ipykernel_5944/2159069532.py:7: DeprecationWarning: executable_path has been deprecated, please pass in a Service object\n",
      "  driver = webdriver.Chrome(executable_path=path, options=options)\n"
     ]
    }
   ],
   "source": [
    "#start chrome\n",
    "options = webdriver.ChromeOptions()\n",
    "options.add_argument('--ignore-certificate-errors')\n",
    "options.add_argument('--incognito')\n",
    "#options.add_argument('--headless')\n",
    "path=\"../Dependencies/chromedriver.exe\"\n",
    "driver = webdriver.Chrome(executable_path=path, options=options)\n",
    "\n",
    "#open website\n",
    "driver.get(\"https://www.edgeprop.sg/\")\n",
    "\n",
    "#Click on hamburger icon to open menu\n",
    "clickbutton(hamburger_btn)\n",
    "\n",
    "#click on login button to open menu\n",
    "clickbutton(login_btn)\n",
    "\n",
    "#click agent login button\n",
    "clickbutton(agent_btn)\n",
    "\n",
    "#input mobile number\n",
    "number = \"91540852\"  #need protect when making into script\n",
    "password = \"fang1234\"\n",
    "mobile_input = driver.find_element(By.ID, \"username\")\n",
    "mobile_input.send_keys(number)\n",
    "password_input = driver.find_element(By.ID, \"password\")\n",
    "password_input.send_keys(password)\n",
    "\n",
    "#login button\n",
    "clickbutton(login_btn2)"
   ]
  },
  {
   "cell_type": "markdown",
   "metadata": {},
   "source": [
    "Click on login button if prompt for you'll be signed out elsewhere pops out"
   ]
  },
  {
   "cell_type": "code",
   "execution_count": 9,
   "metadata": {},
   "outputs": [
    {
     "name": "stdout",
     "output_type": "stream",
     "text": [
      "Login after prompted to sign out everywhere else\n"
     ]
    }
   ],
   "source": [
    "try:\n",
    "    login_btn3 = WebDriverWait(driver,20).until(\n",
    "                            EC.presence_of_element_located((By.XPATH, login_btn3))\n",
    "                        )\n",
    "    login_btn3.click()\n",
    "    print(\"Login after prompted to sign out everywhere else\")\n",
    "except:\n",
    "    print(\"No prompt to sign out everywhere else\")"
   ]
  },
  {
   "cell_type": "markdown",
   "metadata": {},
   "source": [
    "Extracting tables from individual condo page"
   ]
  },
  {
   "cell_type": "code",
   "execution_count": 10,
   "metadata": {},
   "outputs": [],
   "source": [
    "#closing annoying pop-up\n",
    "    #popup = WebDriverWait(driver,60).until(\n",
    "    #    EC.presence_of_element_located((By.XPATH, annoyingpopout))\n",
    "    #)\n",
    "    #popup.click()\n",
    "    #print(\"Annoying pop-up closed\")"
   ]
  },
  {
   "cell_type": "code",
   "execution_count": 11,
   "metadata": {
    "scrolled": true
   },
   "outputs": [],
   "source": [
    "#creating condo DF\n",
    "columns = [\"Postal Code\", 'Project Name', 'District', 'Number of Units', 'Indicative Price Range', 'Tenure', '# Records', '# Profitable sales', '# Unprofitable sales']\n",
    "condosdf=pd.DataFrame(columns=columns)\n",
    "\n",
    "#creating transations DF\n",
    "columns = ['Project Name','Date', 'Area(sqft)', 'Bedrooms', 'Price(S$ psf)', 'Price (S$)', 'Type of Sale', 'Address', 'Type of Area', 'Purchaser Address', 'Source']\n",
    "transactionsdf=pd.DataFrame(columns=columns)\n",
    "\n",
    "#creating condo DF\n",
    "#columns = [\"Postal Code\", 'Project Name', 'District', 'Number of Units', 'Indicative Price Range', 'Tenure', '# Records', '# Profitable sales', '# Unprofitable sales']\n",
    "#condosdf=pd.DataFrame(columns=columns)\n",
    "\n",
    "#creating transations DF\n",
    "#columns = ['Project Name','Date', 'Area(sqft)', 'Bedrooms', 'Price(S$ psf)', 'Price (S$)', 'Type of Sale', 'Address', 'Type of Area', 'Purchaser Address', 'Source']\n",
    "#transactionsdf=pd.DataFrame(columns=columns)\n",
    "def generate_webscrape_df(condonames):\n",
    "    failed_condos_ls = []   # list to store which condos script failed to scrape data\n",
    "\n",
    "    for condoname in condonames:\n",
    "        try:\n",
    "            driver.get(\"https://www.edgeprop.sg/condo-apartment/\" + condoname)\n",
    "\n",
    "            #loading of webpage\n",
    "            webpage = WebDriverWait(driver,60).until(\n",
    "                EC.presence_of_element_located((By.XPATH,'//*[@id=\"SalesTransaction-panel-sales\"]/div/div/div/div/div/div[1]/div/div/div/div/div/div/table/thead'))\n",
    "            )\n",
    "            print(condoname +\" loaded\")\n",
    "\n",
    "            #loading of table\n",
    "            webpage = WebDriverWait(driver,60).until(EC.presence_of_element_located((By.XPATH, transaction_tbl)))\n",
    "            #print(\"table loaded\")\n",
    "\n",
    "            driver.implicitly_wait(10)\n",
    "\n",
    "            #expanding table to 100 rows\n",
    "            WebDriverWait(driver,60).until(EC.element_to_be_clickable((By.XPATH, ddmenu)))\n",
    "            clickbutton(ddmenu)\n",
    "            WebDriverWait(driver,60).until(EC.element_to_be_clickable((By.XPATH, rows100)))\n",
    "            clickbutton(rows100)\n",
    "\n",
    "            #scraping condo attributes\n",
    "            condosdf.loc[len(condosdf)] = CondoAtttributes()\n",
    "\n",
    "            recno = condosdf.loc[len(condosdf)-1,'# Records']\n",
    "\n",
    "            pages = recno // 100 + 1\n",
    "\n",
    "            i=1\n",
    "            while i <= pages:\n",
    "                #print(\"page: \",i)\n",
    "                count=0\n",
    "\n",
    "                if i < pages: # for multi pages\n",
    "                    for j in range(2, 102):\n",
    "                        transactionsdf.loc[len(transactionsdf)] = readrow(j)\n",
    "                        count+=1\n",
    "                    #click next table\n",
    "                    #print(count)\n",
    "                    #print(\"trying to click next page\")\n",
    "                    pageselector = driver.find_element(By.XPATH,'//*[@id=\"SalesTransaction-panel-sales\"]/div/div/div/div/div/div[1]/div/div/div/ul')\n",
    "                    next_btn = pageselector.find_element(By.CLASS_NAME,\"ant-pagination-next\")\n",
    "                    try:\n",
    "                        next_btn.click()\n",
    "                    except:\n",
    "                        print(\"Interupted by annoying pop-up\")\n",
    "                        popup = WebDriverWait(driver,60).until(\n",
    "                            EC.presence_of_element_located((By.XPATH, annoyingpopout))\n",
    "                        )\n",
    "                        popup.click()\n",
    "                        print(\"Annoying pop-up closed\")\n",
    "                        next_btn.click()\n",
    "                    i+=1\n",
    "\n",
    "                else: #last page <100\n",
    "                    numberofrec = recno % 100\n",
    "\n",
    "                    #scraping of rows, loop through rows\n",
    "                    for j in range (2 , numberofrec+2):\n",
    "                        #adding to df\n",
    "                        transactionsdf.loc[len(transactionsdf)] = readrow(j)\n",
    "                        count+=1\n",
    "                    #print(count)\n",
    "                    i+=1\n",
    "            print(f\"{condoname} successfully scraped\")\n",
    "        except:\n",
    "            failed_condos_ls.append(condoname)\n",
    "            print(f\"{condoname} failed\")\n",
    "            \n",
    "    return failed_condos_ls"
   ]
  },
  {
   "cell_type": "markdown",
   "metadata": {},
   "source": [
    "First run, loop through all condos and store condos that failed to be scraped as output"
   ]
  },
  {
   "cell_type": "code",
   "execution_count": 12,
   "metadata": {},
   "outputs": [
    {
     "name": "stdout",
     "output_type": "stream",
     "text": [
      "villa-marina failed\n",
      "pebble-bay loaded\n",
      "no seemore\n",
      "pebble-bay successfully scraped\n",
      "water-place loaded\n",
      "no seemore\n",
      "water-place successfully scraped\n",
      "tanjong-ria-condominium loaded\n",
      "no seemore\n",
      "Interupted by annoying pop-up\n",
      "Annoying pop-up closed\n",
      "tanjong-ria-condominium successfully scraped\n",
      "tanjong-ria-condominium successfully scraped\n",
      "tanjong-ria-condominium successfully scraped\n",
      "mandarin-gardens loaded\n",
      "no seemore\n",
      "mandarin-gardens successfully scraped\n",
      "mandarin-gardens successfully scraped\n",
      "legenda-at-joo-chiat loaded\n",
      "no seemore\n",
      "legenda-at-joo-chiat successfully scraped\n",
      "legenda-at-joo-chiat successfully scraped\n",
      "legenda-at-joo-chiat successfully scraped\n",
      "the-shore-residences loaded\n",
      "no seemore\n",
      "the-shore-residences successfully scraped\n",
      "the-shore-residences successfully scraped\n",
      "the-shore-residences successfully scraped\n",
      "the-shore-residences successfully scraped\n",
      "the-shore-residences successfully scraped\n",
      "the-shore-residences successfully scraped\n",
      "casuarina-cove loaded\n",
      "no seemore\n",
      "casuarina-cove successfully scraped\n",
      "casuarina-cove successfully scraped\n",
      "casuarina-cove successfully scraped\n",
      "sanctuary-green loaded\n",
      "sanctuary-green failed\n",
      "riveredge loaded\n",
      "no seemore\n",
      "riveredge successfully scraped\n",
      "riveredge successfully scraped\n",
      "riveredge successfully scraped\n",
      "cote-dazur loaded\n",
      "no seemore\n",
      "cote-dazur successfully scraped\n",
      "cote-dazur successfully scraped\n",
      "silversea loaded\n",
      "no seemore\n",
      "silversea successfully scraped\n",
      "silversea successfully scraped\n",
      "silversea successfully scraped\n",
      "silversea successfully scraped\n",
      "silversea successfully scraped\n",
      "silversea successfully scraped\n",
      "costa-rhu loaded\n",
      "no seemore\n",
      "costa-rhu successfully scraped\n",
      "costa-rhu successfully scraped\n",
      "camelot-by-the-water loaded\n",
      "camelot-by-the-water failed\n",
      "dunman-view loaded\n",
      "no seemore\n",
      "dunman-view successfully scraped\n",
      "dunman-view successfully scraped\n",
      "dunman-view successfully scraped\n",
      "katong-park-towers loaded\n",
      "katong-park-towers failed\n"
     ]
    }
   ],
   "source": [
    "failed_condos_ls = generate_webscrape_df(condonames)"
   ]
  },
  {
   "cell_type": "markdown",
   "metadata": {},
   "source": [
    "Working to stop annoying pop-up from inteferring with results"
   ]
  },
  {
   "cell_type": "code",
   "execution_count": 13,
   "metadata": {},
   "outputs": [],
   "source": [
    "pageselector = driver.find_element(By.XPATH,'//*[@id=\"SalesTransaction-panel-sales\"]/div/div/div/div/div/div[1]/div/div/div/ul')\n",
    "next_btn = pageselector.find_element(By.CLASS_NAME,\"ant-pagination-next\")\n",
    "try:\n",
    "    next_btn.click()\n",
    "except:\n",
    "    print(\"Interupted by annoying pop-up\")\n",
    "    popup = WebDriverWait(driver,60).until(\n",
    "        EC.presence_of_element_located((By.XPATH, annoyingpopout))\n",
    "    )\n",
    "    popup.click()\n",
    "    print(\"Annoying pop-up closed\")\n",
    "    next_btn.click()"
   ]
  },
  {
   "cell_type": "markdown",
   "metadata": {},
   "source": [
    "For remaining failed condos"
   ]
  },
  {
   "cell_type": "code",
   "execution_count": 17,
   "metadata": {},
   "outputs": [
    {
     "data": {
      "text/plain": [
       "['camelot-by-the-water', 'dunman-view', 'katong-park-towers']"
      ]
     },
     "execution_count": 17,
     "metadata": {},
     "output_type": "execute_result"
    }
   ],
   "source": [
    "failed_condos_ls"
   ]
  },
  {
   "cell_type": "code",
   "execution_count": 18,
   "metadata": {
    "scrolled": true
   },
   "outputs": [
    {
     "name": "stdout",
     "output_type": "stream",
     "text": [
      "camelot-by-the-water loaded\n",
      "no seemore\n",
      "camelot-by-the-water successfully scraped\n",
      "camelot-by-the-water successfully scraped\n",
      "dunman-view loaded\n",
      "no seemore\n",
      "dunman-view successfully scraped\n",
      "dunman-view successfully scraped\n",
      "dunman-view successfully scraped\n",
      "katong-park-towers loaded\n",
      "no seemore\n",
      "katong-park-towers successfully scraped\n",
      "katong-park-towers successfully scraped\n",
      "katong-park-towers successfully scraped\n"
     ]
    }
   ],
   "source": [
    "failed_condos_ls = generate_webscrape_df(failed_condos_ls)"
   ]
  },
  {
   "cell_type": "code",
   "execution_count": 19,
   "metadata": {},
   "outputs": [
    {
     "data": {
      "text/plain": [
       "[]"
      ]
     },
     "execution_count": 19,
     "metadata": {},
     "output_type": "execute_result"
    }
   ],
   "source": [
    "failed_condos_ls"
   ]
  },
  {
   "cell_type": "code",
   "execution_count": 20,
   "metadata": {},
   "outputs": [
    {
     "data": {
      "text/html": [
       "<div>\n",
       "<style scoped>\n",
       "    .dataframe tbody tr th:only-of-type {\n",
       "        vertical-align: middle;\n",
       "    }\n",
       "\n",
       "    .dataframe tbody tr th {\n",
       "        vertical-align: top;\n",
       "    }\n",
       "\n",
       "    .dataframe thead th {\n",
       "        text-align: right;\n",
       "    }\n",
       "</style>\n",
       "<table border=\"1\" class=\"dataframe\">\n",
       "  <thead>\n",
       "    <tr style=\"text-align: right;\">\n",
       "      <th></th>\n",
       "      <th>Postal Code</th>\n",
       "      <th>Project Name</th>\n",
       "      <th>District</th>\n",
       "      <th>Number of Units</th>\n",
       "      <th>Indicative Price Range</th>\n",
       "      <th>Tenure</th>\n",
       "      <th># Records</th>\n",
       "      <th># Profitable sales</th>\n",
       "      <th># Unprofitable sales</th>\n",
       "    </tr>\n",
       "  </thead>\n",
       "  <tbody>\n",
       "    <tr>\n",
       "      <th>0</th>\n",
       "      <td>[436918, 436919, 436920, 436921, 436895]</td>\n",
       "      <td>PEBBLE BAY</td>\n",
       "      <td>D15</td>\n",
       "      <td>510</td>\n",
       "      <td>1,674</td>\n",
       "      <td>99 Yrs From 09/03/1994</td>\n",
       "      <td>89</td>\n",
       "      <td>79</td>\n",
       "      <td>1</td>\n",
       "    </tr>\n",
       "    <tr>\n",
       "      <th>1</th>\n",
       "      <td>[436606, 436607, 436608, 436931, 436932]</td>\n",
       "      <td>WATER PLACE</td>\n",
       "      <td>D15</td>\n",
       "      <td>437</td>\n",
       "      <td>1,555</td>\n",
       "      <td>99 Yrs From 02/03/1998</td>\n",
       "      <td>91</td>\n",
       "      <td>87</td>\n",
       "      <td>4</td>\n",
       "    </tr>\n",
       "    <tr>\n",
       "      <th>2</th>\n",
       "      <td>[436914]</td>\n",
       "      <td>TANJONG RIA CONDOMINIUM</td>\n",
       "      <td>D15</td>\n",
       "      <td>168</td>\n",
       "      <td>1,364</td>\n",
       "      <td>99 Yrs From 31/05/1993</td>\n",
       "      <td>289</td>\n",
       "      <td>82</td>\n",
       "      <td>9</td>\n",
       "    </tr>\n",
       "    <tr>\n",
       "      <th>3</th>\n",
       "      <td>[448906, 448907, 448908, 44... Show more]</td>\n",
       "      <td>MANDARIN GARDENS</td>\n",
       "      <td>D15</td>\n",
       "      <td>Unknown</td>\n",
       "      <td>1,238</td>\n",
       "      <td>99 Yrs From 08/03/1982, 99 Yrs From 08/03/198</td>\n",
       "      <td>111</td>\n",
       "      <td>77</td>\n",
       "      <td>6</td>\n",
       "    </tr>\n",
       "    <tr>\n",
       "      <th>4</th>\n",
       "      <td>[428096, 428099, 428100, 428... Show more]</td>\n",
       "      <td>LEGENDA AT JOO CHIAT</td>\n",
       "      <td>D15</td>\n",
       "      <td>100</td>\n",
       "      <td>1,270</td>\n",
       "      <td>99 Yrs From 04/06/2001</td>\n",
       "      <td>213</td>\n",
       "      <td>60</td>\n",
       "      <td>4</td>\n",
       "    </tr>\n",
       "  </tbody>\n",
       "</table>\n",
       "</div>"
      ],
      "text/plain": [
       "                                  Postal Code             Project Name  \\\n",
       "0    [436918, 436919, 436920, 436921, 436895]               PEBBLE BAY   \n",
       "1    [436606, 436607, 436608, 436931, 436932]              WATER PLACE   \n",
       "2                                    [436914]  TANJONG RIA CONDOMINIUM   \n",
       "3   [448906, 448907, 448908, 44... Show more]         MANDARIN GARDENS   \n",
       "4  [428096, 428099, 428100, 428... Show more]     LEGENDA AT JOO CHIAT   \n",
       "\n",
       "  District Number of Units Indicative Price Range  \\\n",
       "0      D15             510                  1,674   \n",
       "1      D15             437                  1,555   \n",
       "2      D15             168                  1,364   \n",
       "3      D15         Unknown                  1,238   \n",
       "4      D15             100                  1,270   \n",
       "\n",
       "                                          Tenure # Records # Profitable sales  \\\n",
       "0                         99 Yrs From 09/03/1994        89                 79   \n",
       "1                         99 Yrs From 02/03/1998        91                 87   \n",
       "2                         99 Yrs From 31/05/1993       289                 82   \n",
       "3  99 Yrs From 08/03/1982, 99 Yrs From 08/03/198       111                 77   \n",
       "4                         99 Yrs From 04/06/2001       213                 60   \n",
       "\n",
       "  # Unprofitable sales  \n",
       "0                    1  \n",
       "1                    4  \n",
       "2                    9  \n",
       "3                    6  \n",
       "4                    4  "
      ]
     },
     "execution_count": 20,
     "metadata": {},
     "output_type": "execute_result"
    }
   ],
   "source": [
    "condosdf.to_csv(\"../Raw Data/Edgeprop/condos_attr.csv\", index=False)\n",
    "condosdf.head()"
   ]
  },
  {
   "cell_type": "code",
   "execution_count": 21,
   "metadata": {},
   "outputs": [
    {
     "data": {
      "text/html": [
       "<div>\n",
       "<style scoped>\n",
       "    .dataframe tbody tr th:only-of-type {\n",
       "        vertical-align: middle;\n",
       "    }\n",
       "\n",
       "    .dataframe tbody tr th {\n",
       "        vertical-align: top;\n",
       "    }\n",
       "\n",
       "    .dataframe thead th {\n",
       "        text-align: right;\n",
       "    }\n",
       "</style>\n",
       "<table border=\"1\" class=\"dataframe\">\n",
       "  <thead>\n",
       "    <tr style=\"text-align: right;\">\n",
       "      <th></th>\n",
       "      <th>Project Name</th>\n",
       "      <th>Date</th>\n",
       "      <th>Area(sqft)</th>\n",
       "      <th>Bedrooms</th>\n",
       "      <th>Price(S$ psf)</th>\n",
       "      <th>Price (S$)</th>\n",
       "      <th>Type of Sale</th>\n",
       "      <th>Address</th>\n",
       "      <th>Type of Area</th>\n",
       "      <th>Purchaser Address</th>\n",
       "      <th>Source</th>\n",
       "    </tr>\n",
       "  </thead>\n",
       "  <tbody>\n",
       "    <tr>\n",
       "      <th>0</th>\n",
       "      <td>PEBBLE BAY</td>\n",
       "      <td>24 FEB 2023</td>\n",
       "      <td>850</td>\n",
       "      <td>1</td>\n",
       "      <td>1,658</td>\n",
       "      <td>1,410,000</td>\n",
       "      <td>Resale</td>\n",
       "      <td>132 Tanjong Rhu Road #10-03</td>\n",
       "      <td>Strata</td>\n",
       "      <td>Private</td>\n",
       "      <td>URA</td>\n",
       "    </tr>\n",
       "    <tr>\n",
       "      <th>1</th>\n",
       "      <td>PEBBLE BAY</td>\n",
       "      <td>2 FEB 2023</td>\n",
       "      <td>1,894</td>\n",
       "      <td>3</td>\n",
       "      <td>1,821</td>\n",
       "      <td>3,450,000</td>\n",
       "      <td>Resale</td>\n",
       "      <td>130 Tanjong Rhu Road #09-03</td>\n",
       "      <td>Strata</td>\n",
       "      <td>Private</td>\n",
       "      <td>URA</td>\n",
       "    </tr>\n",
       "    <tr>\n",
       "      <th>2</th>\n",
       "      <td>PEBBLE BAY</td>\n",
       "      <td>12 DEC 2022</td>\n",
       "      <td>2,174</td>\n",
       "      <td>3</td>\n",
       "      <td>1,711</td>\n",
       "      <td>3,720,000</td>\n",
       "      <td>Resale</td>\n",
       "      <td>130 TANJONG RHU ROAD #02-05</td>\n",
       "      <td>Strata</td>\n",
       "      <td>Private</td>\n",
       "      <td>URA</td>\n",
       "    </tr>\n",
       "    <tr>\n",
       "      <th>3</th>\n",
       "      <td>PEBBLE BAY</td>\n",
       "      <td>8 DEC 2022</td>\n",
       "      <td>2,336</td>\n",
       "      <td>3</td>\n",
       "      <td>1,670</td>\n",
       "      <td>3,900,000</td>\n",
       "      <td>Resale</td>\n",
       "      <td>132 TANJONG RHU ROAD #05-09</td>\n",
       "      <td>Strata</td>\n",
       "      <td>Private</td>\n",
       "      <td>URA</td>\n",
       "    </tr>\n",
       "    <tr>\n",
       "      <th>4</th>\n",
       "      <td>PEBBLE BAY</td>\n",
       "      <td>17 NOV 2022</td>\n",
       "      <td>2,336</td>\n",
       "      <td>3</td>\n",
       "      <td>1,550</td>\n",
       "      <td>3,620,000</td>\n",
       "      <td>Resale</td>\n",
       "      <td>130 Tanjong Rhu Road #08-10</td>\n",
       "      <td>Strata</td>\n",
       "      <td>Private</td>\n",
       "      <td>URA</td>\n",
       "    </tr>\n",
       "  </tbody>\n",
       "</table>\n",
       "</div>"
      ],
      "text/plain": [
       "  Project Name         Date Area(sqft) Bedrooms Price(S$ psf) Price (S$)  \\\n",
       "0   PEBBLE BAY  24 FEB 2023        850        1         1,658  1,410,000   \n",
       "1   PEBBLE BAY   2 FEB 2023      1,894        3         1,821  3,450,000   \n",
       "2   PEBBLE BAY  12 DEC 2022      2,174        3         1,711  3,720,000   \n",
       "3   PEBBLE BAY   8 DEC 2022      2,336        3         1,670  3,900,000   \n",
       "4   PEBBLE BAY  17 NOV 2022      2,336        3         1,550  3,620,000   \n",
       "\n",
       "  Type of Sale                      Address Type of Area Purchaser Address  \\\n",
       "0       Resale  132 Tanjong Rhu Road #10-03       Strata           Private   \n",
       "1       Resale  130 Tanjong Rhu Road #09-03       Strata           Private   \n",
       "2       Resale  130 TANJONG RHU ROAD #02-05       Strata           Private   \n",
       "3       Resale  132 TANJONG RHU ROAD #05-09       Strata           Private   \n",
       "4       Resale  130 Tanjong Rhu Road #08-10       Strata           Private   \n",
       "\n",
       "  Source  \n",
       "0    URA  \n",
       "1    URA  \n",
       "2    URA  \n",
       "3    URA  \n",
       "4    URA  "
      ]
     },
     "execution_count": 21,
     "metadata": {},
     "output_type": "execute_result"
    }
   ],
   "source": [
    "#transactionsdf.to_csv(\"../Raw Data/Edgeprop/transactions.csv\", index=False)\n",
    "transactionsdf.head()"
   ]
  },
  {
   "cell_type": "code",
   "execution_count": null,
   "metadata": {},
   "outputs": [],
   "source": []
  }
 ],
 "metadata": {
  "kernelspec": {
   "display_name": "Python 3 (ipykernel)",
   "language": "python",
   "name": "python3"
  },
  "language_info": {
   "codemirror_mode": {
    "name": "ipython",
    "version": 3
   },
   "file_extension": ".py",
   "mimetype": "text/x-python",
   "name": "python",
   "nbconvert_exporter": "python",
   "pygments_lexer": "ipython3",
   "version": "3.9.7"
  }
 },
 "nbformat": 4,
 "nbformat_minor": 2
}
