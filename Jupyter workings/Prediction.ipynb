{
 "cells": [
  {
   "cell_type": "code",
   "execution_count": 1,
   "id": "8ca61a7f",
   "metadata": {},
   "outputs": [],
   "source": [
    "import pandas as pd  \n",
    "import numpy as np  \n",
    "import matplotlib.pyplot as plt  \n",
    "import seaborn as seabornInstance \n",
    "from sklearn.model_selection import train_test_split \n",
    "from sklearn.linear_model import LinearRegression\n",
    "from sklearn import metrics\n",
    "from sklearn.neighbors import LocalOutlierFactor\n",
    "%matplotlib inline"
   ]
  },
  {
   "cell_type": "code",
   "execution_count": null,
   "id": "8ee545e4",
   "metadata": {
    "scrolled": true
   },
   "outputs": [],
   "source": [
    "df = pd.read_csv(\"../Results/result.csv\", parse_dates=[\"Index\"], index_col=[\"Index\"])\n",
    "df.tail()"
   ]
  },
  {
   "cell_type": "code",
   "execution_count": 3,
   "id": "fad4f7d1",
   "metadata": {},
   "outputs": [
    {
     "data": {
      "image/png": "[encoded data removed]",
      "text/plain": [
       "<Figure size 640x480 with 1 Axes>"
      ]
     },
     "metadata": {},
     "output_type": "display_data"
    }
   ],
   "source": [
    "df.plot(x='delta_PPI', y='delta_PSF', style='o')  \n",
    "plt.title('delta PPI vs delta PSF')  \n",
    "plt.xlabel('delta PPI')  \n",
    "plt.ylabel('delta PSF')  \n",
    "plt.show()"
   ]
  },
  {
   "cell_type": "code",
   "execution_count": 4,
   "id": "8623e179",
   "metadata": {},
   "outputs": [],
   "source": [
    "X_cols = ['delta_PPI', 'No. of Transactions']\n",
    "X = df[X_cols].dropna().values.reshape(-1,len(X_cols))\n",
    "y = df['delta_PSF'].dropna().values.reshape(-1,1)"
   ]
  },
  {
   "cell_type": "code",
   "execution_count": 5,
   "id": "c53f2d66",
   "metadata": {},
   "outputs": [
    {
     "data": {
      "text/plain": [
       "array([[ 1.92893401e-02,  2.30000000e+01],\n",
       "       [-2.68924303e-02,  5.00000000e+00],\n",
       "       [-3.58239509e-02,  7.00000000e+00],\n",
       "       [-4.45859873e-02,  4.00000000e+00],\n",
       "       [-2.22222222e-03,  3.00000000e+00],\n",
       "       [-2.78396437e-02,  3.00000000e+00],\n",
       "       [-7.19512195e-02,  1.00000000e+00],\n",
       "       [-1.22549020e-03,  1.00000000e+00],\n",
       "       [-1.36476427e-02,  4.00000000e+00],\n",
       "       [ 1.48514851e-02,  1.00000000e+00],\n",
       "       [ 2.07570208e-02,  4.00000000e+00],\n",
       "       [ 1.56438026e-02,  2.00000000e+00],\n",
       "       [ 1.54028436e-02,  8.00000000e+00],\n",
       "       [ 1.75029172e-02,  1.90000000e+01],\n",
       "       [ 3.21100917e-02,  1.30000000e+01],\n",
       "       [ 4.22222222e-02,  4.00000000e+00],\n",
       "       [ 5.33049041e-02,  6.00000000e+00],\n",
       "       [ 8.40080972e-02,  1.00000000e+00],\n",
       "       [ 8.30999066e-02,  2.00000000e+00],\n",
       "       [ 7.24137931e-02,  1.00000000e+00],\n",
       "       [ 3.69774920e-02,  3.00000000e+00],\n",
       "       [ 0.00000000e+00,  2.00000000e+00],\n",
       "       [-3.37000000e-01,  1.00000000e+00],\n",
       "       [ 1.59496327e-01,  4.00000000e+00],\n",
       "       [ 7.14932127e-02,  3.00000000e+00],\n",
       "       [ 4.98310811e-02,  1.00000000e+00],\n",
       "       [ 4.98793242e-02,  4.00000000e+00],\n",
       "       [ 3.39366516e-02,  1.00000000e+00],\n",
       "       [ 3.05899490e-02,  1.00000000e+00],\n",
       "       [ 1.14942529e-02,  1.00000000e+00],\n",
       "       [ 2.84090909e-03,  1.00000000e+00],\n",
       "       [ 2.83687943e-03,  1.00000000e+00],\n",
       "       [ 4.94350282e-03,  2.00000000e+00],\n",
       "       [ 1.75685172e-02,  3.00000000e+00],\n",
       "       [ 7.59668508e-03,  1.00000000e+00],\n",
       "       [ 2.02702703e-02,  1.00000000e+00],\n",
       "       [-4.44753301e-02,  1.00000000e+00],\n",
       "       [-1.12280702e-02,  2.00000000e+00],\n",
       "       [-7.80695529e-03,  1.00000000e+00],\n",
       "       [-1.50214592e-02,  1.00000000e+00],\n",
       "       [-2.89103039e-02,  2.00000000e+00],\n",
       "       [ 5.23560209e-03,  1.00000000e+00],\n",
       "       [ 8.17843866e-03,  2.00000000e+00],\n",
       "       [ 7.41525424e-02,  2.00000000e+00],\n",
       "       [-6.13079019e-03,  1.00000000e+00],\n",
       "       [ 3.24105334e-02,  2.00000000e+00],\n",
       "       [-1.27005348e-02,  1.00000000e+00],\n",
       "       [ 4.70746469e-03,  1.00000000e+00],\n",
       "       [ 3.02419355e-02,  1.00000000e+00]])"
      ]
     },
     "execution_count": 5,
     "metadata": {},
     "output_type": "execute_result"
    }
   ],
   "source": [
    "X"
   ]
  },
  {
   "cell_type": "markdown",
   "id": "8f624673",
   "metadata": {},
   "source": [
    "## Split test train with random splitting"
   ]
  },
  {
   "cell_type": "code",
   "execution_count": 6,
   "id": "0fdd1a18",
   "metadata": {},
   "outputs": [],
   "source": [
    "X_train, X_test, y_train, y_test = train_test_split(X, y, test_size=0.2, random_state=0)"
   ]
  },
  {
   "cell_type": "code",
   "execution_count": 7,
   "id": "2c435fd8",
   "metadata": {},
   "outputs": [
    {
     "data": {
      "text/html": [
       "<style>#sk-container-id-1 {color: black;background-color: white;}#sk-container-id-1 pre{padding: 0;}#sk-container-id-1 div.sk-toggleable {background-color: white;}#sk-container-id-1 label.sk-toggleable__label {cursor: pointer;display: block;width: 100%;margin-bottom: 0;padding: 0.3em;box-sizing: border-box;text-align: center;}#sk-container-id-1 label.sk-toggleable__label-arrow:before {content: \"▸\";float: left;margin-right: 0.25em;color: #696969;}#sk-container-id-1 label.sk-toggleable__label-arrow:hover:before {color: black;}#sk-container-id-1 div.sk-estimator:hover label.sk-toggleable__label-arrow:before {color: black;}#sk-container-id-1 div.sk-toggleable__content {max-height: 0;max-width: 0;overflow: hidden;text-align: left;background-color: #f0f8ff;}#sk-container-id-1 div.sk-toggleable__content pre {margin: 0.2em;color: black;border-radius: 0.25em;background-color: #f0f8ff;}#sk-container-id-1 input.sk-toggleable__control:checked~div.sk-toggleable__content {max-height: 200px;max-width: 100%;overflow: auto;}#sk-container-id-1 input.sk-toggleable__control:checked~label.sk-toggleable__label-arrow:before {content: \"▾\";}#sk-container-id-1 div.sk-estimator input.sk-toggleable__control:checked~label.sk-toggleable__label {background-color: #d4ebff;}#sk-container-id-1 div.sk-label input.sk-toggleable__control:checked~label.sk-toggleable__label {background-color: #d4ebff;}#sk-container-id-1 input.sk-hidden--visually {border: 0;clip: rect(1px 1px 1px 1px);clip: rect(1px, 1px, 1px, 1px);height: 1px;margin: -1px;overflow: hidden;padding: 0;position: absolute;width: 1px;}#sk-container-id-1 div.sk-estimator {font-family: monospace;background-color: #f0f8ff;border: 1px dotted black;border-radius: 0.25em;box-sizing: border-box;margin-bottom: 0.5em;}#sk-container-id-1 div.sk-estimator:hover {background-color: #d4ebff;}#sk-container-id-1 div.sk-parallel-item::after {content: \"\";width: 100%;border-bottom: 1px solid gray;flex-grow: 1;}#sk-container-id-1 div.sk-label:hover label.sk-toggleable__label {background-color: #d4ebff;}#sk-container-id-1 div.sk-serial::before {content: \"\";position: absolute;border-left: 1px solid gray;box-sizing: border-box;top: 0;bottom: 0;left: 50%;z-index: 0;}#sk-container-id-1 div.sk-serial {display: flex;flex-direction: column;align-items: center;background-color: white;padding-right: 0.2em;padding-left: 0.2em;position: relative;}#sk-container-id-1 div.sk-item {position: relative;z-index: 1;}#sk-container-id-1 div.sk-parallel {display: flex;align-items: stretch;justify-content: center;background-color: white;position: relative;}#sk-container-id-1 div.sk-item::before, #sk-container-id-1 div.sk-parallel-item::before {content: \"\";position: absolute;border-left: 1px solid gray;box-sizing: border-box;top: 0;bottom: 0;left: 50%;z-index: -1;}#sk-container-id-1 div.sk-parallel-item {display: flex;flex-direction: column;z-index: 1;position: relative;background-color: white;}#sk-container-id-1 div.sk-parallel-item:first-child::after {align-self: flex-end;width: 50%;}#sk-container-id-1 div.sk-parallel-item:last-child::after {align-self: flex-start;width: 50%;}#sk-container-id-1 div.sk-parallel-item:only-child::after {width: 0;}#sk-container-id-1 div.sk-dashed-wrapped {border: 1px dashed gray;margin: 0 0.4em 0.5em 0.4em;box-sizing: border-box;padding-bottom: 0.4em;background-color: white;}#sk-container-id-1 div.sk-label label {font-family: monospace;font-weight: bold;display: inline-block;line-height: 1.2em;}#sk-container-id-1 div.sk-label-container {text-align: center;}#sk-container-id-1 div.sk-container {/* jupyter's `normalize.less` sets `[hidden] { display: none; }` but bootstrap.min.css set `[hidden] { display: none !important; }` so we also need the `!important` here to be able to override the default hidden behavior on the sphinx rendered scikit-learn.org. See: https://github.com/scikit-learn/scikit-learn/issues/21755 */display: inline-block !important;position: relative;}#sk-container-id-1 div.sk-text-repr-fallback {display: none;}</style><div id=\"sk-container-id-1\" class=\"sk-top-container\"><div class=\"sk-text-repr-fallback\"><pre>LinearRegression()</pre><b>In a Jupyter environment, please rerun this cell to show the HTML representation or trust the notebook. <br />On GitHub, the HTML representation is unable to render, please try loading this page with nbviewer.org.</b></div><div class=\"sk-container\" hidden><div class=\"sk-item\"><div class=\"sk-estimator sk-toggleable\"><input class=\"sk-toggleable__control sk-hidden--visually\" id=\"sk-estimator-id-1\" type=\"checkbox\" checked><label for=\"sk-estimator-id-1\" class=\"sk-toggleable__label sk-toggleable__label-arrow\">LinearRegression</label><div class=\"sk-toggleable__content\"><pre>LinearRegression()</pre></div></div></div></div></div>"
      ],
      "text/plain": [
       "LinearRegression()"
      ]
     },
     "execution_count": 7,
     "metadata": {},
     "output_type": "execute_result"
    }
   ],
   "source": [
    "regressor = LinearRegression()  \n",
    "regressor.fit(X_train, y_train) #training the algorithm"
   ]
  },
  {
   "cell_type": "code",
   "execution_count": 8,
   "id": "6fc49f81",
   "metadata": {},
   "outputs": [
    {
     "name": "stdout",
     "output_type": "stream",
     "text": [
      "[0.01676902]\n",
      "[[0.39345037 0.0008954 ]]\n"
     ]
    }
   ],
   "source": [
    "#To retrieve the intercept:\n",
    "print(regressor.intercept_)\n",
    "\n",
    "#For retrieving the slope:\n",
    "print(regressor.coef_)"
   ]
  },
  {
   "cell_type": "code",
   "execution_count": 9,
   "id": "82b61946",
   "metadata": {},
   "outputs": [],
   "source": [
    "y_pred = regressor.predict(X_test)"
   ]
  },
  {
   "cell_type": "code",
   "execution_count": 10,
   "id": "0340cda2",
   "metadata": {},
   "outputs": [
    {
     "data": {
      "text/html": [
       "<div>\n",
       "<style scoped>\n",
       "    .dataframe tbody tr th:only-of-type {\n",
       "        vertical-align: middle;\n",
       "    }\n",
       "\n",
       "    .dataframe tbody tr th {\n",
       "        vertical-align: top;\n",
       "    }\n",
       "\n",
       "    .dataframe thead th {\n",
       "        text-align: right;\n",
       "    }\n",
       "</style>\n",
       "<table border=\"1\" class=\"dataframe\">\n",
       "  <thead>\n",
       "    <tr style=\"text-align: right;\">\n",
       "      <th></th>\n",
       "      <th>Actual</th>\n",
       "      <th>Predicted</th>\n",
       "    </tr>\n",
       "  </thead>\n",
       "  <tbody>\n",
       "    <tr>\n",
       "      <th>0</th>\n",
       "      <td>0.129948</td>\n",
       "      <td>0.022187</td>\n",
       "    </tr>\n",
       "    <tr>\n",
       "      <th>1</th>\n",
       "      <td>-0.036559</td>\n",
       "      <td>0.018581</td>\n",
       "    </tr>\n",
       "    <tr>\n",
       "      <th>2</th>\n",
       "      <td>0.050812</td>\n",
       "      <td>0.039976</td>\n",
       "    </tr>\n",
       "    <tr>\n",
       "      <th>3</th>\n",
       "      <td>-0.114342</td>\n",
       "      <td>0.018782</td>\n",
       "    </tr>\n",
       "    <tr>\n",
       "      <th>4</th>\n",
       "      <td>0.220084</td>\n",
       "      <td>0.020505</td>\n",
       "    </tr>\n",
       "    <tr>\n",
       "      <th>5</th>\n",
       "      <td>-0.237430</td>\n",
       "      <td>0.014142</td>\n",
       "    </tr>\n",
       "    <tr>\n",
       "      <th>6</th>\n",
       "      <td>0.043949</td>\n",
       "      <td>0.020653</td>\n",
       "    </tr>\n",
       "    <tr>\n",
       "      <th>7</th>\n",
       "      <td>0.001041</td>\n",
       "      <td>0.007185</td>\n",
       "    </tr>\n",
       "    <tr>\n",
       "      <th>8</th>\n",
       "      <td>-0.033784</td>\n",
       "      <td>0.017182</td>\n",
       "    </tr>\n",
       "    <tr>\n",
       "      <th>9</th>\n",
       "      <td>0.134650</td>\n",
       "      <td>0.028517</td>\n",
       "    </tr>\n",
       "  </tbody>\n",
       "</table>\n",
       "</div>"
      ],
      "text/plain": [
       "     Actual  Predicted\n",
       "0  0.129948   0.022187\n",
       "1 -0.036559   0.018581\n",
       "2  0.050812   0.039976\n",
       "3 -0.114342   0.018782\n",
       "4  0.220084   0.020505\n",
       "5 -0.237430   0.014142\n",
       "6  0.043949   0.020653\n",
       "7  0.001041   0.007185\n",
       "8 -0.033784   0.017182\n",
       "9  0.134650   0.028517"
      ]
     },
     "execution_count": 10,
     "metadata": {},
     "output_type": "execute_result"
    }
   ],
   "source": [
    "actual_predicted_df = pd.DataFrame({'Actual': y_test.flatten(), 'Predicted': y_pred.flatten()})\n",
    "actual_predicted_df"
   ]
  },
  {
   "cell_type": "code",
   "execution_count": 11,
   "id": "1c0030b6",
   "metadata": {},
   "outputs": [
    {
     "name": "stdout",
     "output_type": "stream",
     "text": [
      "Mean Absolute Error: 0.0944550357551635\n",
      "Mean Squared Error: 0.01500547760386611\n",
      "Root Mean Squared Error: 0.12249684732214992\n",
      "R Square Score: 0.04657742462041181\n"
     ]
    }
   ],
   "source": [
    "print('Mean Absolute Error:', metrics.mean_absolute_error(y_test, y_pred))  \n",
    "print('Mean Squared Error:', metrics.mean_squared_error(y_test, y_pred))  \n",
    "print('Root Mean Squared Error:', np.sqrt(metrics.mean_squared_error(y_test, y_pred)))\n",
    "print('R Square Score:', metrics.r2_score(y_test, y_pred))"
   ]
  },
  {
   "cell_type": "markdown",
   "id": "dbe1ac37",
   "metadata": {},
   "source": [
    "## Split test train by latest values"
   ]
  },
  {
   "cell_type": "code",
   "execution_count": 39,
   "id": "006f7c3b",
   "metadata": {},
   "outputs": [],
   "source": [
    "X_cols = ['delta_PPI', 'No. of Transactions']\n",
    "X = df[X_cols].dropna().values.reshape(-1,len(X_cols))\n",
    "y = df['delta_PSF'].dropna().values.reshape(-1,1)"
   ]
  },
  {
   "cell_type": "code",
   "execution_count": 13,
   "id": "0287333a",
   "metadata": {},
   "outputs": [
    {
     "data": {
      "text/plain": [
       "10"
      ]
     },
     "execution_count": 13,
     "metadata": {},
     "output_type": "execute_result"
    }
   ],
   "source": [
    "test_len = round(len(X)*0.2)\n",
    "test_len"
   ]
  },
  {
   "cell_type": "code",
   "execution_count": 14,
   "id": "2bb9461c",
   "metadata": {},
   "outputs": [
    {
     "data": {
      "text/plain": [
       "array([[-0.01502146,  1.        ],\n",
       "       [-0.0289103 ,  2.        ],\n",
       "       [ 0.0052356 ,  1.        ],\n",
       "       [ 0.00817844,  2.        ],\n",
       "       [ 0.07415254,  2.        ],\n",
       "       [-0.00613079,  1.        ],\n",
       "       [ 0.03241053,  2.        ],\n",
       "       [-0.01270053,  1.        ],\n",
       "       [ 0.00470746,  1.        ],\n",
       "       [ 0.03024194,  1.        ]])"
      ]
     },
     "execution_count": 14,
     "metadata": {},
     "output_type": "execute_result"
    }
   ],
   "source": [
    "X_test = X[-test_len:]\n",
    "y_test = y[-test_len:]\n",
    "X_test"
   ]
  },
  {
   "cell_type": "code",
   "execution_count": 15,
   "id": "4b1bc276",
   "metadata": {},
   "outputs": [
    {
     "data": {
      "text/plain": [
       "39"
      ]
     },
     "execution_count": 15,
     "metadata": {},
     "output_type": "execute_result"
    }
   ],
   "source": [
    "X_train = X[:len(X)-test_len]\n",
    "y_train = y[:len(X)-test_len]\n",
    "\n",
    "len(y_train)"
   ]
  },
  {
   "cell_type": "code",
   "execution_count": 16,
   "id": "7760bd9d",
   "metadata": {},
   "outputs": [
    {
     "data": {
      "image/png": "[encoded data removed]",
      "text/plain": [
       "<Figure size 640x480 with 1 Axes>"
      ]
     },
     "metadata": {},
     "output_type": "display_data"
    }
   ],
   "source": [
    "plt.scatter(X_train[:,0], y_train)\n",
    "plt.title('delta PPI vs delta PSF')  \n",
    "plt.xlabel('delta PPI')  \n",
    "plt.ylabel('delta PSF') \n",
    "#plt.ylim([-200, 500])\n",
    "#plt.xlim([-2, 8])\n",
    "plt.show()"
   ]
  },
  {
   "cell_type": "code",
   "execution_count": 17,
   "id": "e84ace31",
   "metadata": {},
   "outputs": [
    {
     "data": {
      "image/png": "[encoded data removed]",
      "text/plain": [
       "<Figure size 640x480 with 1 Axes>"
      ]
     },
     "metadata": {},
     "output_type": "display_data"
    }
   ],
   "source": [
    "plt.scatter(X_train[:,1], y_train)\n",
    "plt.title('No. of Transactions vs delta PSF')  \n",
    "plt.xlabel('No. of Transactions')  \n",
    "plt.ylabel('delta PSF') \n",
    "#plt.ylim([-200, 500])\n",
    "#plt.xlim([-2, 8])\n",
    "plt.show()"
   ]
  },
  {
   "cell_type": "markdown",
   "id": "fc01f3f5",
   "metadata": {},
   "source": [
    "Remove outliers using Local Outlier Factor (k nearest neighbours)"
   ]
  },
  {
   "cell_type": "markdown",
   "id": "00745bd0",
   "metadata": {},
   "source": [
    "# identify outliers in the training dataset\n",
    "lof = LocalOutlierFactor(n_neighbors=8)\n",
    "yhat = lof.fit_predict(X_train)\n",
    "# select all rows that are not outliers\n",
    "mask = yhat != -1\n",
    "X_train, y_train = X_train[mask, :], y_train[mask]"
   ]
  },
  {
   "cell_type": "markdown",
   "id": "3cd103be",
   "metadata": {
    "scrolled": true
   },
   "source": [
    "plt.scatter(X_train, y_train)\n",
    "plt.title('delta PPI vs delta PSF with outliers removed')  \n",
    "plt.xlabel('delta PPI')  \n",
    "plt.ylabel('delta PSF') \n",
    "plt.ylim([-200, 400])\n",
    "plt.xlim([-2, 8])\n",
    "plt.show()"
   ]
  },
  {
   "cell_type": "markdown",
   "id": "6e215a1f",
   "metadata": {},
   "source": [
    "Removing outliers using IQR"
   ]
  },
  {
   "cell_type": "markdown",
   "id": "7a5be9bf",
   "metadata": {},
   "source": [
    "# calculate interquartile range\n",
    "q25, q75 = np.percentile(y_train, 25), np.percentile(y_train, 75)\n",
    "iqr = q75 - q25\n",
    "q25, q75"
   ]
  },
  {
   "cell_type": "markdown",
   "id": "f0dc5d4e",
   "metadata": {},
   "source": [
    "# calculate the outlier cutoff\n",
    "cut_off = iqr * 1.5\n",
    "lower, upper = q25 - cut_off, q75 + cut_off\n",
    "lower, upper"
   ]
  },
  {
   "cell_type": "markdown",
   "id": "9ca3f569",
   "metadata": {},
   "source": [
    "# remove outliers\n",
    "mask = np.where(y_train < upper )[0]\n",
    "mask = np.where(y_train > lower )[0]\n",
    "mask\n",
    "\n",
    "og_len = len(y_train)\n",
    "X_train, y_train = X_train[mask, :], y_train[mask]\n",
    "after_len = len(y_train)\n",
    "outliers_removed = og_len-after_len\n",
    "outliers_removed"
   ]
  },
  {
   "cell_type": "markdown",
   "id": "d8b4aac7",
   "metadata": {},
   "source": [
    "Removing outliers using Z score"
   ]
  },
  {
   "cell_type": "code",
   "execution_count": 40,
   "id": "7efe79c1",
   "metadata": {},
   "outputs": [
    {
     "name": "stdout",
     "output_type": "stream",
     "text": [
      "[[0.14205629]\n",
      " [0.13721191]\n",
      " [0.45126855]\n",
      " [0.11630745]\n",
      " [0.60518431]\n",
      " [0.9715015 ]\n",
      " [0.07035433]\n",
      " [0.58027948]\n",
      " [0.92660379]\n",
      " [1.71464775]\n",
      " [0.93117122]\n",
      " [1.69698637]\n",
      " [1.7554277 ]\n",
      " [0.89851842]\n",
      " [0.0023651 ]\n",
      " [1.67913189]\n",
      " [1.12778903]\n",
      " [1.86751775]\n",
      " [1.39362301]\n",
      " [0.82044657]\n",
      " [0.25992776]\n",
      " [0.62885479]\n",
      " [0.74780016]\n",
      " [0.29231114]\n",
      " [0.81783617]\n",
      " [0.3411256 ]\n",
      " [0.17884246]\n",
      " [0.04228979]\n",
      " [1.4584633 ]\n",
      " [0.88897583]\n",
      " [1.30317715]\n",
      " [1.24813859]\n",
      " [1.69781671]\n",
      " [0.14786962]\n",
      " [0.11725724]\n",
      " [0.73044626]\n",
      " [1.70612505]\n",
      " [0.02528735]]\n"
     ]
    }
   ],
   "source": [
    "# Z score\n",
    "from scipy import stats\n",
    "import numpy as np\n",
    " \n",
    "z = np.abs(stats.zscore(y_train))\n",
    "print(z)"
   ]
  },
  {
   "cell_type": "code",
   "execution_count": 41,
   "id": "3531e8c7",
   "metadata": {},
   "outputs": [
    {
     "data": {
      "text/plain": [
       "array([ 0,  1,  2,  3,  4,  5,  6,  7,  8,  9, 10, 11, 12, 13, 14, 15, 16,\n",
       "       17, 18, 19, 20, 21, 22, 23, 24, 25, 26, 27, 28, 29, 30, 31, 32, 33,\n",
       "       34, 35, 36, 37], dtype=int64)"
      ]
     },
     "execution_count": 41,
     "metadata": {},
     "output_type": "execute_result"
    }
   ],
   "source": [
    "threshold = 3\n",
    " \n",
    "# Position of the outlier\n",
    "mask = np.where(z < threshold)[0]\n",
    "mask "
   ]
  },
  {
   "cell_type": "code",
   "execution_count": 42,
   "id": "5ed9a17f",
   "metadata": {},
   "outputs": [],
   "source": [
    "og_len = len(y_train)"
   ]
  },
  {
   "cell_type": "code",
   "execution_count": 43,
   "id": "f92e39ae",
   "metadata": {},
   "outputs": [
    {
     "data": {
      "text/plain": [
       "0"
      ]
     },
     "execution_count": 43,
     "metadata": {},
     "output_type": "execute_result"
    }
   ],
   "source": [
    "X_train, y_train = X_train[mask, :], y_train[mask,:]\n",
    "after_len = len(y_train)\n",
    "outliers_removed = og_len-after_len\n",
    "outliers_removed"
   ]
  },
  {
   "cell_type": "code",
   "execution_count": 44,
   "id": "641d0c53",
   "metadata": {},
   "outputs": [
    {
     "data": {
      "image/png": "[encoded data removed]",
      "text/plain": [
       "<Figure size 640x480 with 1 Axes>"
      ]
     },
     "metadata": {},
     "output_type": "display_data"
    }
   ],
   "source": [
    "plt.scatter(X_train[:,0], y_train)\n",
    "plt.title('delta PPI vs delta PSF with outliers removed')  \n",
    "plt.xlabel('delta PPI')  \n",
    "plt.ylabel('delta PSF') \n",
    "#plt.ylim([-200, 450])\n",
    "#plt.xlim([-2, 9])\n",
    "plt.show()"
   ]
  },
  {
   "cell_type": "markdown",
   "id": "6a69d660",
   "metadata": {},
   "source": [
    "## Running regression"
   ]
  },
  {
   "cell_type": "code",
   "execution_count": null,
   "id": "b8356f4b",
   "metadata": {},
   "outputs": [],
   "source": [
    "regressor = LinearRegression()  \n",
    "regressor.fit(X_train, y_train) #training the algorithm"
   ]
  },
  {
   "cell_type": "code",
   "execution_count": null,
   "id": "9abd9374",
   "metadata": {},
   "outputs": [],
   "source": [
    "#To retrieve the intercept:\n",
    "print(regressor.intercept_)\n",
    "\n",
    "#For retrieving the slope:\n",
    "print(regressor.coef_)"
   ]
  },
  {
   "cell_type": "markdown",
   "id": "6b843881",
   "metadata": {},
   "source": [
    "Evaluating Model"
   ]
  },
  {
   "cell_type": "code",
   "execution_count": null,
   "id": "145d29c6",
   "metadata": {},
   "outputs": [],
   "source": [
    "y_pred = regressor.predict(X_test)"
   ]
  },
  {
   "cell_type": "code",
   "execution_count": null,
   "id": "72899e08",
   "metadata": {},
   "outputs": [],
   "source": [
    "actual_predicted_df = pd.DataFrame({'Actual': y_test.flatten(), 'Predicted': y_pred.flatten()})\n",
    "actual_predicted_df"
   ]
  },
  {
   "cell_type": "code",
   "execution_count": null,
   "id": "b3d4c197",
   "metadata": {},
   "outputs": [],
   "source": [
    "fig, ax = plt.subplots()\n",
    "ax.plot(y_pred, label='Predicted')\n",
    "ax.plot(y_test, label='Actual')\n",
    "plt.title('Predicted and Actual')  \n",
    "plt.xlabel('delta PPI')  \n",
    "plt.ylabel('delta PSF')  \n",
    "leg = ax.legend()"
   ]
  },
  {
   "cell_type": "code",
   "execution_count": null,
   "id": "21aec01d",
   "metadata": {},
   "outputs": [],
   "source": [
    "print('Mean Absolute Error:', metrics.mean_absolute_error(y_test, y_pred))  \n",
    "print('Mean Squared Error:', metrics.mean_squared_error(y_test, y_pred))  \n",
    "print('Root Mean Squared Error:', np.sqrt(metrics.mean_squared_error(y_test, y_pred)))\n",
    "print('R Square Score:', metrics.r2_score(y_test, y_pred))"
   ]
  },
  {
   "cell_type": "markdown",
   "id": "ec8e644c",
   "metadata": {},
   "source": [
    "Applying forecasting to next 10 time quarters not in train data "
   ]
  },
  {
   "cell_type": "code",
   "execution_count": null,
   "id": "8e7b40c2",
   "metadata": {},
   "outputs": [],
   "source": [
    "# intercept a is monthly change in price for x after controlling for change in PPI\n",
    "a = float(regressor.intercept_)\n",
    "\n",
    "# gradient b is sensitivity of change in price of condo w.r.t. PPI\n",
    "b = regressor.coef_\n",
    "\n",
    "print(a, b)\n",
    "np.matmul(b, [0.016416105591497424, 1])"
   ]
  },
  {
   "cell_type": "code",
   "execution_count": null,
   "id": "76921a12",
   "metadata": {},
   "outputs": [],
   "source": [
    "pd.to_datetime(df[[\"Unit Price ($psf)\", \"PPI\"]].dropna().index[-1]) + pd.DateOffset(months=3)"
   ]
  },
  {
   "cell_type": "code",
   "execution_count": null,
   "id": "1cad4896",
   "metadata": {},
   "outputs": [],
   "source": [
    "Px_N = df[\"Unit Price ($psf)\"].dropna().iloc[-1]         # latest psf to use in forecasting equation\n",
    "ppi_avg = np.mean(y_test)\n",
    "forecast_X = [ppi_avg, 1]\n",
    "forecast_date = pd.to_datetime(df[[\"Unit Price ($psf)\", \"PPI\"]].dropna().index[-1]) + pd.DateOffset(months=3)\n",
    "print(Px_N, ppi_avg, forecast_date)"
   ]
  },
  {
   "cell_type": "code",
   "execution_count": null,
   "id": "cec47a90",
   "metadata": {},
   "outputs": [],
   "source": [
    "result = []\n",
    "for i in range(12):\n",
    "    Px_i = float(Px_N+(a+np.matmul(b, forecast_X)))\n",
    "    result.append([forecast_date, Px_i])\n",
    "    Px_N = Px_i\n",
    "    forecast_date += pd.DateOffset(months=3)\n",
    "\n",
    "result_df = pd.DataFrame(result, columns=[\"Index\",\"Forecasted\"]).set_index([\"Index\"])\n",
    "result_df"
   ]
  },
  {
   "cell_type": "code",
   "execution_count": null,
   "id": "a5b7519a",
   "metadata": {
    "scrolled": true
   },
   "outputs": [],
   "source": [
    "new_df = df.combine_first(result_df)\n",
    "new_df"
   ]
  },
  {
   "cell_type": "markdown",
   "id": "1b6beabb",
   "metadata": {},
   "source": [
    "Store regression results and evaluation metric nicely"
   ]
  },
  {
   "cell_type": "markdown",
   "id": "71dbc490",
   "metadata": {},
   "source": [
    "Plot out graphs of condo price trend with forecasted values labelled in a different colour"
   ]
  },
  {
   "cell_type": "code",
   "execution_count": null,
   "id": "50a0a43b",
   "metadata": {},
   "outputs": [],
   "source": [
    "ax = df.plot(y='Unit Price ($psf)', style='o')\n",
    "new_df.plot(y='Forecasted', style='x', color='red', ax=ax)\n",
    "plt.title('delta PPI vs delta PSF')  \n",
    "plt.xlabel('delta PPI')  \n",
    "plt.ylabel('PSF')  \n",
    "plt.show()"
   ]
  },
  {
   "cell_type": "code",
   "execution_count": null,
   "id": "ae46648d",
   "metadata": {},
   "outputs": [],
   "source": [
    "[[] for i in range(10)]"
   ]
  },
  {
   "cell_type": "markdown",
   "id": "86ecb885",
   "metadata": {},
   "source": [
    "Save results to SQL"
   ]
  },
  {
   "cell_type": "code",
   "execution_count": null,
   "id": "24300cd9",
   "metadata": {},
   "outputs": [],
   "source": [
    "import sqlalchemy"
   ]
  },
  {
   "cell_type": "code",
   "execution_count": null,
   "id": "239f117a",
   "metadata": {},
   "outputs": [],
   "source": [
    "sql_df = new_df[[\"PPI\", \"Unit Price ($psf)\", \"Forecasted\"]]\n",
    "sql_df"
   ]
  },
  {
   "cell_type": "code",
   "execution_count": null,
   "id": "ec7ba14d",
   "metadata": {},
   "outputs": [],
   "source": [
    "name = \"D15\"\n",
    "engine = sqlalchemy.create_engine('sqlite:///'+name)"
   ]
  },
  {
   "cell_type": "code",
   "execution_count": null,
   "id": "a615f780",
   "metadata": {},
   "outputs": [],
   "source": [
    "sql_df.to_sql(\"PEBBLE-BAY\", engine, if_exists='replace', index=True)"
   ]
  },
  {
   "cell_type": "code",
   "execution_count": null,
   "id": "91f3be98",
   "metadata": {},
   "outputs": [],
   "source": []
  }
 ],
 "metadata": {
  "kernelspec": {
   "display_name": "Project",
   "language": "python",
   "name": "project"
  },
  "language_info": {
   "codemirror_mode": {
    "name": "ipython",
    "version": 3
   },
   "file_extension": ".py",
   "mimetype": "text/x-python",
   "name": "python",
   "nbconvert_exporter": "python",
   "pygments_lexer": "ipython3",
   "version": "3.9.7"
  }
 },
 "nbformat": 4,
 "nbformat_minor": 5
}
